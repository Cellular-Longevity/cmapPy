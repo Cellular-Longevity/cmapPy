{
 "cells": [
  {
   "cell_type": "code",
   "execution_count": 4,
   "id": "c5f017dc-44fd-4902-ab67-5d2888c5c0ec",
   "metadata": {},
   "outputs": [],
   "source": [
    "import boto3\n",
    "import cmapPy.pandasGEXpress.parse_gctx as parse_gctx"
   ]
  },
  {
   "cell_type": "code",
   "execution_count": 5,
   "id": "7d93b372-4b42-4bf6-9f50-53ca2e1f2b8c",
   "metadata": {},
   "outputs": [],
   "source": [
    "# requires a local ~/.aws/credentials file w/ permission\n",
    "session = boto3.Session(profile_name='default')\n",
    "s3_client = session.client('s3')\n",
    "\n",
    "s3_client.download_file(Bucket=\"bioinformatics-loyal\", \n",
    "Key=\"processed_methylation_data/HEALTHSPAN/novogene_pilot_RRBS/matrices_processed/methylation_filtered.gctx\", \n",
    "Filename=\"methylation_filtered.gctx\")"
   ]
  },
  {
   "cell_type": "code",
   "execution_count": 6,
   "id": "fdd7ea19-3838-44eb-bf66-42236395658d",
   "metadata": {},
   "outputs": [],
   "source": [
    "# parse the gctx\n",
    "mgct = parse_gctx.parse('methylation_filtered.gctx')"
   ]
  },
  {
   "cell_type": "code",
   "execution_count": 7,
   "id": "170a9814-d0b3-459d-89e0-65f22e4e3cb7",
   "metadata": {},
   "outputs": [
    {
     "data": {
      "text/plain": [
       "(2928752, 5)"
      ]
     },
     "execution_count": 7,
     "metadata": {},
     "output_type": "execute_result"
    }
   ],
   "source": [
    "# methylation matrix lives in meth_df\n",
    "mgct.meth_df.shape"
   ]
  },
  {
   "cell_type": "code",
   "execution_count": 8,
   "id": "2925fbea-8f34-4a2d-b89c-8e2d1d7e5bab",
   "metadata": {},
   "outputs": [
    {
     "data": {
      "text/plain": [
       "(2928752, 5)"
      ]
     },
     "execution_count": 8,
     "metadata": {},
     "output_type": "execute_result"
    }
   ],
   "source": [
    "# coverage matrix lives in cov_df\n",
    "mgct.cov_df.shape"
   ]
  },
  {
   "cell_type": "code",
   "execution_count": 11,
   "id": "58d29028-0316-4e3c-8cea-efe8d5951eb4",
   "metadata": {},
   "outputs": [
    {
     "data": {
      "text/html": [
       "<div>\n",
       "<style scoped>\n",
       "    .dataframe tbody tr th:only-of-type {\n",
       "        vertical-align: middle;\n",
       "    }\n",
       "\n",
       "    .dataframe tbody tr th {\n",
       "        vertical-align: top;\n",
       "    }\n",
       "\n",
       "    .dataframe thead th {\n",
       "        text-align: right;\n",
       "    }\n",
       "</style>\n",
       "<table border=\"1\" class=\"dataframe\">\n",
       "  <thead>\n",
       "    <tr style=\"text-align: right;\">\n",
       "      <th>chd</th>\n",
       "      <th>cov_s3_path</th>\n",
       "      <th>file_name</th>\n",
       "      <th>sample_name</th>\n",
       "      <th>subject_id</th>\n",
       "    </tr>\n",
       "    <tr>\n",
       "      <th>cid</th>\n",
       "      <th></th>\n",
       "      <th></th>\n",
       "      <th></th>\n",
       "      <th></th>\n",
       "    </tr>\n",
       "  </thead>\n",
       "  <tbody>\n",
       "    <tr>\n",
       "      <th>HAG-11_saliva</th>\n",
       "      <td>s3://bioinformatics-loyal/nf-core_processing/H...</td>\n",
       "      <td>bryn_palmer</td>\n",
       "      <td>HAG-11_saliva</td>\n",
       "      <td>HAG-11</td>\n",
       "    </tr>\n",
       "    <tr>\n",
       "      <th>HAG-08_saliva</th>\n",
       "      <td>s3://bioinformatics-loyal/nf-core_processing/H...</td>\n",
       "      <td>powder_gaur</td>\n",
       "      <td>HAG-08_saliva</td>\n",
       "      <td>HAG-08</td>\n",
       "    </tr>\n",
       "    <tr>\n",
       "      <th>HAG-15_saliva</th>\n",
       "      <td>s3://bioinformatics-loyal/nf-core_processing/H...</td>\n",
       "      <td>puck</td>\n",
       "      <td>HAG-15_saliva</td>\n",
       "      <td>HAG-15</td>\n",
       "    </tr>\n",
       "    <tr>\n",
       "      <th>HAG-25_saliva</th>\n",
       "      <td>s3://bioinformatics-loyal/nf-core_processing/H...</td>\n",
       "      <td>renzo</td>\n",
       "      <td>HAG-25_saliva</td>\n",
       "      <td>HAG-25</td>\n",
       "    </tr>\n",
       "    <tr>\n",
       "      <th>HAG-10_saliva</th>\n",
       "      <td>s3://bioinformatics-loyal/nf-core_processing/H...</td>\n",
       "      <td>skye_mankin</td>\n",
       "      <td>HAG-10_saliva</td>\n",
       "      <td>HAG-10</td>\n",
       "    </tr>\n",
       "  </tbody>\n",
       "</table>\n",
       "</div>"
      ],
      "text/plain": [
       "chd                                                  cov_s3_path    file_name  \\\n",
       "cid                                                                             \n",
       "HAG-11_saliva  s3://bioinformatics-loyal/nf-core_processing/H...  bryn_palmer   \n",
       "HAG-08_saliva  s3://bioinformatics-loyal/nf-core_processing/H...  powder_gaur   \n",
       "HAG-15_saliva  s3://bioinformatics-loyal/nf-core_processing/H...         puck   \n",
       "HAG-25_saliva  s3://bioinformatics-loyal/nf-core_processing/H...        renzo   \n",
       "HAG-10_saliva  s3://bioinformatics-loyal/nf-core_processing/H...  skye_mankin   \n",
       "\n",
       "chd              sample_name subject_id  \n",
       "cid                                      \n",
       "HAG-11_saliva  HAG-11_saliva     HAG-11  \n",
       "HAG-08_saliva  HAG-08_saliva     HAG-08  \n",
       "HAG-15_saliva  HAG-15_saliva     HAG-15  \n",
       "HAG-25_saliva  HAG-25_saliva     HAG-25  \n",
       "HAG-10_saliva  HAG-10_saliva     HAG-10  "
      ]
     },
     "execution_count": 11,
     "metadata": {},
     "output_type": "execute_result"
    }
   ],
   "source": [
    "# colummn and row metadata\n",
    "mgct.col_metadata_df"
   ]
  },
  {
   "cell_type": "code",
   "execution_count": 12,
   "id": "c5bf8893-3071-4c7e-934e-3cdae7755fac",
   "metadata": {},
   "outputs": [
    {
     "data": {
      "text/html": [
       "<div>\n",
       "<style scoped>\n",
       "    .dataframe tbody tr th:only-of-type {\n",
       "        vertical-align: middle;\n",
       "    }\n",
       "\n",
       "    .dataframe tbody tr th {\n",
       "        vertical-align: top;\n",
       "    }\n",
       "\n",
       "    .dataframe thead th {\n",
       "        text-align: right;\n",
       "    }\n",
       "</style>\n",
       "<table border=\"1\" class=\"dataframe\">\n",
       "  <thead>\n",
       "    <tr style=\"text-align: right;\">\n",
       "      <th>rhd</th>\n",
       "      <th>chrom</th>\n",
       "      <th>end</th>\n",
       "      <th>start</th>\n",
       "    </tr>\n",
       "    <tr>\n",
       "      <th>rid</th>\n",
       "      <th></th>\n",
       "      <th></th>\n",
       "      <th></th>\n",
       "    </tr>\n",
       "  </thead>\n",
       "  <tbody>\n",
       "    <tr>\n",
       "      <th>chr1_4774_4775</th>\n",
       "      <td>chr1</td>\n",
       "      <td>4775</td>\n",
       "      <td>4774</td>\n",
       "    </tr>\n",
       "    <tr>\n",
       "      <th>chr1_4782_4783</th>\n",
       "      <td>chr1</td>\n",
       "      <td>4783</td>\n",
       "      <td>4782</td>\n",
       "    </tr>\n",
       "    <tr>\n",
       "      <th>chr1_4815_4816</th>\n",
       "      <td>chr1</td>\n",
       "      <td>4816</td>\n",
       "      <td>4815</td>\n",
       "    </tr>\n",
       "    <tr>\n",
       "      <th>chr1_4850_4851</th>\n",
       "      <td>chr1</td>\n",
       "      <td>4851</td>\n",
       "      <td>4850</td>\n",
       "    </tr>\n",
       "    <tr>\n",
       "      <th>chr1_4852_4853</th>\n",
       "      <td>chr1</td>\n",
       "      <td>4853</td>\n",
       "      <td>4852</td>\n",
       "    </tr>\n",
       "  </tbody>\n",
       "</table>\n",
       "</div>"
      ],
      "text/plain": [
       "rhd            chrom   end  start\n",
       "rid                              \n",
       "chr1_4774_4775  chr1  4775   4774\n",
       "chr1_4782_4783  chr1  4783   4782\n",
       "chr1_4815_4816  chr1  4816   4815\n",
       "chr1_4850_4851  chr1  4851   4850\n",
       "chr1_4852_4853  chr1  4853   4852"
      ]
     },
     "execution_count": 12,
     "metadata": {},
     "output_type": "execute_result"
    }
   ],
   "source": [
    "mgct.row_metadata_df.iloc[:5,:]"
   ]
  },
  {
   "cell_type": "code",
   "execution_count": null,
   "id": "faae9dd6-af9d-400e-b20d-6c5478224725",
   "metadata": {},
   "outputs": [],
   "source": []
  }
 ],
 "metadata": {
  "kernelspec": {
   "display_name": "Python [conda env:cmappy]",
   "language": "python",
   "name": "conda-env-cmappy-py"
  },
  "language_info": {
   "codemirror_mode": {
    "name": "ipython",
    "version": 3
   },
   "file_extension": ".py",
   "mimetype": "text/x-python",
   "name": "python",
   "nbconvert_exporter": "python",
   "pygments_lexer": "ipython3",
   "version": "3.10.2"
  }
 },
 "nbformat": 4,
 "nbformat_minor": 5
}
