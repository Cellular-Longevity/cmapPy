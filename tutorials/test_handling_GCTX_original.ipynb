{
 "cells": [
  {
   "cell_type": "code",
   "execution_count": 2,
   "metadata": {},
   "outputs": [
    {
     "name": "stdout",
     "output_type": "stream",
     "text": [
      "download: s3://bioinformatics-loyal/nf-core_processing/HEALTHSPAN/ADMERA_100_ALL/kraken2_classification/standard_custom_bisulfite/taxonomy_gctx_classified_only/kraken_species_percentage.gctx to tmp/kraken_species_percentage.gctx\n"
     ]
    }
   ],
   "source": [
    "\n"
   ]
  },
  {
   "cell_type": "code",
   "execution_count": null,
   "metadata": {},
   "outputs": [],
   "source": [
    "DATAFOLDER = '/home/ubuntu'\n",
    "os.chdir(DATAFOLDER)\n",
    "!aws s3 cp s3://bioinformatics-loyal/nf-core_processing/HEALTHSPAN/ADMERA_100_ALL/kraken2_classification/standard_custom_bisulfite/taxonomy_gctx_classified_only/kraken_species_percentage.gctx  tmp/\n"
   ]
  },
  {
   "cell_type": "code",
   "execution_count": null,
   "metadata": {},
   "outputs": [],
   "source": []
  }
 ],
 "metadata": {
  "interpreter": {
   "hash": "85a7eacaa826cb137c5becb003c3cde8f59c10f626d8fae574a9f6b01232bb98"
  },
  "kernelspec": {
   "display_name": "Python 3.9.10 ('olddogs': conda)",
   "language": "python",
   "name": "python3"
  },
  "language_info": {
   "codemirror_mode": {
    "name": "ipython",
    "version": 3
   },
   "file_extension": ".py",
   "mimetype": "text/x-python",
   "name": "python",
   "nbconvert_exporter": "python",
   "pygments_lexer": "ipython3",
   "version": "3.9.10"
  },
  "orig_nbformat": 4
 },
 "nbformat": 4,
 "nbformat_minor": 2
}
