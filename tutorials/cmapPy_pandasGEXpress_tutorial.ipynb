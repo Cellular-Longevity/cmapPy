{
 "cells": [
  {
   "cell_type": "markdown",
   "metadata": {},
   "source": [
    "# Using pandasGEXpress with .gct/x files \n",
    "\n",
    "--------------------------------------------------------------------------------\n",
    "## A sample tutorial using data from [GEO GSE70138](https://www.ncbi.nlm.nih.gov/geo/query/acc.cgi?acc=GSE70138)\n",
    "\n",
    "Author: Oana Enache\n",
    "\n",
    "Last updated March 13th, 2018\n",
    "\n",
    "For questions and issue reports, please file an issue at github.com/cmap/cmapPy. \n",
    "\n",
    "--------------------------------------------------------------------------------"
   ]
  },
  {
   "cell_type": "markdown",
   "metadata": {},
   "source": [
    "## Table of Contents\n",
    "\n",
    "We have developed this tutorial to loosely follow a workflow we recommend for .gct/x files downloaded from GEO GSE70138. \n",
    "\n",
    "[Background info](#background)\n",
    "\n",
    "[Obtaining data from GEO](#getdata)\n",
    "\n",
    "[Activate your conda environment](#conda)\n",
    "\n",
    "[Parse in metadata only](#metadataparse)\n",
    "\n",
    "[Parsing in a gct/x file](#parsegctx)\n",
    "\n",
    "[Add/delete annotations](#annotations)\n",
    "\n",
    "[Subsetting gct/x files and GCToo instances](#subsetting)\n",
    "\n",
    "[Merging gct/x files](#merging)\n",
    "\n",
    "[Construct a GCToo instance](#newGCToo)\n",
    "\n",
    "[Using GCToo instances with pandas tools](#pandas)\n",
    "\n",
    "[Plotting with GCToo objects](#plotting)\n",
    "\n",
    "[Write a GCToo instance to file](#writing)\n",
    "\n",
    "[Converting .gct <-> .gctx](#converting)\n",
    "\n",
    "--------------------------------------------------------------------------------"
   ]
  },
  {
   "cell_type": "markdown",
   "metadata": {},
   "source": [
    "<a id=\"background\"></a>\n",
    "\n",
    "\n",
    "## Background: What's .gct, .gctx, and GCToo? \n",
    "\n",
    "For more details on each of these topics, please visit clue.io/code. \n",
    "\n",
    "\n",
    "### The .gct format \n",
    "\n",
    "![Sample GCT file](GCT_mockup.png)\n",
    "\n",
    "The GCT file format, a tab-delimited text-based format pairing matrix expression values with row and column metadata, allowing comparison of both transcriptional and contextual differences across samples. A schematic of a sample GCT file is pictured above. \n",
    "\n",
    "### The .gctx format\n",
    "\n",
    "![Sample GCTX file](GCTX_mockup.png)\n",
    "\n",
    "The GCTX file format was developed to improve serialization performance of GCT, particularly for large files. GCTX is an HDF5-based data format that can contain the same content as one or more GCT files in a hierarchically-structured, compressed, and easily accessible form (full file specification available at clue.io/code). Amongst other features, the HDF5 format allows users the ability to parse a subset of a large data set without reading the entire data set into memory first (using hyperslab selection). A schematic of a sample GCTX file is pictured above.\n",
    "\n",
    "### The GCToo object \n",
    "\n",
    "`GCToo` objects are instances of the GCToo class we developed to represent .gct and .gctx files in a form compatible with Python's [PANDAS](http://pandas.pydata.org/) library. In essence, GCToo is a container of 3 pandas DataFrames (optionally, can also include a multi-index DataFrame of these 3 DataFrames combined) as well as two attributes representing the file source and version respectively. For more information, please see [our documentation](https://clue.io/cmapPy/pandasGEXpress.html#gctoo-class). "
   ]
  },
  {
   "cell_type": "markdown",
   "metadata": {},
   "source": [
    "<a id=\"getdata\"></a>\n",
    "## Obtaining Data from Gene Expression Omnibus (GEO)"
   ]
  },
  {
   "cell_type": "markdown",
   "metadata": {},
   "source": [
    "[Gene Expression Omnibus](https://www.ncbi.nlm.nih.gov/geo/), or GEO, is a NCBI-maintained public repository of array and sequence genomics data. As of April 2017, we have provided 1.7 million profiles to GEO at the following accessions:\n",
    "\n",
    "* [GSE70138](https://www.ncbi.nlm.nih.gov/geo/query/acc.cgi?acc=GSE70138)\n",
    "\n",
    "* [GSE92742](https://www.ncbi.nlm.nih.gov/geo/query/acc.cgi?acc=GSE92742)\n",
    "\n",
    "* [GSE92743](https://www.ncbi.nlm.nih.gov/geo/query/acc.cgi?acc=GSE92743)\n",
    "\n",
    "Please note that this does not represent the only data available in .gct and .gctx format; we simply mention it as a public resource for freely available data in these formats, and will use it as an example in this tutorial. \n",
    "\n",
    "Data can be downloaded from GEO using either using FTP or HTTP; see accession pages above for details. Details on what content is within each file published is clarified in the [GEO User Guide](https://docs.google.com/document/d/1q2gciWRhVCAAnlvF2iRLuJ7whrGP6QjpsCMq1yWz7dU/edit?usp=sharing). "
   ]
  },
  {
   "cell_type": "markdown",
   "metadata": {},
   "source": [
    "<a id=\"conda\"></a>\n",
    "## Activate your cmapPy conda environment \n",
    "\n",
    "If you haven't done so already, [create a conda environment to use for your analyses](https://clue.io/cmapPy/build.html#install).\n",
    "\n",
    "For this example, we've named our conda environment ``my_cmapPy_env``. \n",
    "\n",
    "**Be sure to activate your environment before proceeding!**\n",
    "\n",
    "``source activate my_cmapPy_env``\n",
    "\n",
    "### What version of cmapPy does this tutorial use? "
   ]
  },
  {
   "cell_type": "code",
   "execution_count": 1,
   "metadata": {},
   "outputs": [
    {
     "data": {
      "text/plain": [
       "'3.3.3'"
      ]
     },
     "execution_count": 1,
     "metadata": {},
     "output_type": "execute_result"
    }
   ],
   "source": [
    "%load_ext autoreload\n",
    "%autoreload 2\n",
    "\n",
    "import pkg_resources\n",
    "\n",
    "# Print version of cmapPy being used in current conda environment \n",
    "pkg_resources.get_distribution(\"cmapPy\").version"
   ]
  },
  {
   "cell_type": "code",
   "execution_count": 2,
   "metadata": {},
   "outputs": [],
   "source": [
    "# downloads example data, ~5Gb\n",
    "import urllib.request\n",
    "import os\n",
    "\n",
    "urls = ['https://www.ncbi.nlm.nih.gov/geo/download/?acc=GSE70138&format=file&file=GSE70138%5FBroad%5FLINCS%5Fsig%5Finfo%5F2017%2D03%2D06%2Etxt%2Egz',\n",
    "        'https://www.ncbi.nlm.nih.gov/geo/download/?acc=GSE70138&format=file&file=GSE70138%5FBroad%5FLINCS%5Fgene%5Finfo%5F2017%2D03%2D06%2Etxt%2Egz',\n",
    "        'https://www.ncbi.nlm.nih.gov/geo/download/?acc=GSE70138&format=file&file=GSE70138%5FBroad%5FLINCS%5FLevel5%5FCOMPZ%5Fn118050x12328%5F2017%2D03%2D06%2Egctx%2Egz']\n",
    "files = ['GSE70138_Broad_LINCS_sig_info_2017-03-06.txt.gz',\n",
    "         'GSE70138_Broad_LINCS_gene_info_2017-03-06.txt.gz',\n",
    "         'GSE70138_Broad_LINCS_Level5_COMPZ_n118050x12328_2017-03-06.gctx.gz']\n",
    "\n",
    "\n",
    "for url,filename in zip(urls,files):\n",
    "    if not os.path.isfile(filename):\n",
    "        urllib.request.urlretrieve(url, filename)\n",
    "\n",
    "        "
   ]
  },
  {
   "cell_type": "code",
   "execution_count": 3,
   "metadata": {},
   "outputs": [],
   "source": [
    "import gzip\n",
    "import shutil\n",
    "if not os.path.isfile('GSE70138_Broad_LINCS_Level5_COMPZ_n118050x12328_2017-03-06.gctx'):\n",
    "    with gzip.open('GSE70138_Broad_LINCS_Level5_COMPZ_n118050x12328_2017-03-06.gctx.gz', 'rb') as f_in:\n",
    "        with open('GSE70138_Broad_LINCS_Level5_COMPZ_n118050x12328_2017-03-06.gctx', 'wb') as f_out:\n",
    "            shutil.copyfileobj(f_in, f_out)"
   ]
  },
  {
   "cell_type": "markdown",
   "metadata": {},
   "source": [
    "<a id=\"metadataparse\"></a>\n",
    "## Parse in metadata only \n",
    "\n",
    "Although we are in the process of developing tools to provide out of core functionality for larger that memory .gctx files, for now some .gctx files may be larger than the RAM you have available on your computer (note, we do not recommend the use of .gct for files above ~1000 samples). If this is the case, you have two options:\n",
    "\n",
    "    1. Obtain access to a server/instance that has more RAM. \n",
    "    2. Read the metadata in first, find the sample (column) id values (\"cids\") that you're actually interested in, and only parse those cids in. \n",
    "\n",
    "### How to parse in metadata only from GEO\n",
    "\n",
    "This would be applicable if you were interested in only certain samples (or certain compound names, cell types, etc). Here, we parse in the metadata from the level 5 (replicate-collapsed signature) data on GSE70138.\n",
    "\n",
    "#### Sample (column) annotations \n",
    "\n",
    "On GEO, because of submission requirements annotations file are stored as separate tab-delimited text files. For level 5 data, we're interested in the \"sig\" related data tables. For this example, we previously downloaded and unzipped \"GSE70138_Broad_LINCS_sig_info_2017-03-06.txt.gz\" (corresponding to identifying information about the samples; if you wanted metrics-related information for filtering, explore the equivalently labelled \"sig metrics\" file). \n",
    "\n",
    "Then, we read this in to a pandas DataFrame: "
   ]
  },
  {
   "cell_type": "code",
   "execution_count": 4,
   "metadata": {},
   "outputs": [],
   "source": [
    "import pandas as pd\n",
    "\n",
    "sig_info = pd.read_csv(\"GSE70138_Broad_LINCS_sig_info_2017-03-06.txt.gz\", sep=\"\\t\")"
   ]
  },
  {
   "cell_type": "code",
   "execution_count": 5,
   "metadata": {},
   "outputs": [
    {
     "data": {
      "text/plain": [
       "Index(['sig_id', 'pert_id', 'pert_iname', 'pert_type', 'cell_id', 'pert_idose',\n",
       "       'pert_itime', 'distil_id'],\n",
       "      dtype='object')"
      ]
     },
     "execution_count": 5,
     "metadata": {},
     "output_type": "execute_result"
    }
   ],
   "source": [
    "# look at the metadata fields provided \n",
    "sig_info.columns"
   ]
  },
  {
   "cell_type": "markdown",
   "metadata": {},
   "source": [
    "As an illustrative example, say we're only interested in looking at expression data corresponding to cells treated as vorinostat. So, we first want to find the sig_id values that correspond to vorinostat-treated samples:"
   ]
  },
  {
   "cell_type": "code",
   "execution_count": 6,
   "metadata": {},
   "outputs": [
    {
     "name": "stdout",
     "output_type": "stream",
     "text": [
      "number of samples treated with vorinostat:\n"
     ]
    },
    {
     "data": {
      "text/plain": [
       "210"
      ]
     },
     "execution_count": 6,
     "metadata": {},
     "output_type": "execute_result"
    }
   ],
   "source": [
    "# get all samples (across all cell types, doses, and other treatment conditions) that were treated with vorinostat\n",
    "vorinostat_ids = sig_info[\"sig_id\"][sig_info[\"pert_iname\"] == \"vorinostat\"]\n",
    "# how many samples are there in this data set?\n",
    "print(\"number of samples treated with vorinostat:\")\n",
    "len(vorinostat_ids)"
   ]
  },
  {
   "cell_type": "markdown",
   "metadata": {},
   "source": [
    "#### Gene (row) annotations \n",
    "\n",
    "Analogously, you might be interested in only parsing in a specific row space; for example, you might be interested at only only examining patterns in expression of [landmark genes](https://clue.io/connectopedia/what_are_landmark_genes). The metadata column identifying landmark membership is `pr_is_lm` (for more details on other metadata header meanings, please see the [GEO User Guide](https://docs.google.com/document/d/1q2gciWRhVCAAnlvF2iRLuJ7whrGP6QjpsCMq1yWz7dU/edit#heading=h.l6bq0r1aih50)). \n",
    "\n",
    "So, we would parse in the gene annotations and obtain a list of only the row identifiers corresponding to landmark genes. **Note that for Entrez ids (as below), you need to specify that the data type annotations are strings (dtype=str argument below); otherwise, the parser currently behaves as if you're subsetting by index.** "
   ]
  },
  {
   "cell_type": "code",
   "execution_count": 7,
   "metadata": {},
   "outputs": [
    {
     "data": {
      "text/plain": [
       "Index(['pr_gene_id', 'pr_gene_symbol', 'pr_gene_title', 'pr_is_lm',\n",
       "       'pr_is_bing'],\n",
       "      dtype='object')"
      ]
     },
     "execution_count": 7,
     "metadata": {},
     "output_type": "execute_result"
    }
   ],
   "source": [
    "gene_info = pd.read_csv(\"GSE70138_Broad_LINCS_gene_info_2017-03-06.txt.gz\", sep=\"\\t\", dtype=str)\n",
    "gene_info.columns"
   ]
  },
  {
   "cell_type": "code",
   "execution_count": 8,
   "metadata": {},
   "outputs": [],
   "source": [
    "# again, note that because gene_info dtypes are str, you need to find ids equal to \"1\" not 1 \n",
    "landmark_gene_row_ids = gene_info[\"pr_gene_id\"][gene_info[\"pr_is_lm\"] == \"1\"]"
   ]
  },
  {
   "cell_type": "markdown",
   "metadata": {},
   "source": [
    "Once you have the row and/or column identifiers you're interested in, parse only these ids from the GCTX file (see [Parse in a gctx](#parsegctx) below). "
   ]
  },
  {
   "cell_type": "markdown",
   "metadata": {},
   "source": [
    "### Side note: How to parse in metadata only from a metadata-annotated gctx\n",
    "\n",
    "Note. *This is not specifically relevant to the data available on GEO*, but if you have a .gctx file with row/column annotations and want to only look at the metadata annotations, you can also read only these fields in from the gctx. You would do this as follows:\n",
    "\n",
    "``from cmapPy.pandasGEXpress.parse import parse`` \n",
    "\n",
    "``gctx_metadata_only = parse(\"path/to/gctx.gctx\", metadata_only=True)``"
   ]
  },
  {
   "cell_type": "code",
   "execution_count": 9,
   "metadata": {},
   "outputs": [
    {
     "data": {
      "text/html": [
       "<div>\n",
       "<style scoped>\n",
       "    .dataframe tbody tr th:only-of-type {\n",
       "        vertical-align: middle;\n",
       "    }\n",
       "\n",
       "    .dataframe tbody tr th {\n",
       "        vertical-align: top;\n",
       "    }\n",
       "\n",
       "    .dataframe thead th {\n",
       "        text-align: right;\n",
       "    }\n",
       "</style>\n",
       "<table border=\"1\" class=\"dataframe\">\n",
       "  <thead>\n",
       "    <tr style=\"text-align: right;\">\n",
       "      <th>chd</th>\n",
       "    </tr>\n",
       "    <tr>\n",
       "      <th>cid</th>\n",
       "    </tr>\n",
       "  </thead>\n",
       "  <tbody>\n",
       "    <tr>\n",
       "      <th>REP.A001_A375_24H:A03</th>\n",
       "    </tr>\n",
       "    <tr>\n",
       "      <th>REP.A001_A375_24H:A04</th>\n",
       "    </tr>\n",
       "    <tr>\n",
       "      <th>REP.A001_A375_24H:A05</th>\n",
       "    </tr>\n",
       "    <tr>\n",
       "      <th>REP.A001_A375_24H:A06</th>\n",
       "    </tr>\n",
       "    <tr>\n",
       "      <th>REP.A001_A375_24H:A07</th>\n",
       "    </tr>\n",
       "  </tbody>\n",
       "</table>\n",
       "</div>"
      ],
      "text/plain": [
       "Empty DataFrame\n",
       "Columns: []\n",
       "Index: [REP.A001_A375_24H:A03, REP.A001_A375_24H:A04, REP.A001_A375_24H:A05, REP.A001_A375_24H:A06, REP.A001_A375_24H:A07]"
      ]
     },
     "execution_count": 9,
     "metadata": {},
     "output_type": "execute_result"
    }
   ],
   "source": [
    "from cmapPy.pandasGEXpress.parse import parse\n",
    "\n",
    "my_col_metadata = parse(\"GSE70138_Broad_LINCS_Level5_COMPZ_n118050x12328_2017-03-06.gctx\", col_meta_only=True)\n",
    "my_col_metadata[0:5]"
   ]
  },
  {
   "cell_type": "markdown",
   "metadata": {},
   "source": [
    "<a id=\"parsegctx\"></a>\n",
    "# Parse in a gctx\n",
    "\n",
    "Now we're ready to read in expression data! For parsing, here are your options:\n",
    "\n",
    "1. Read in an entire gctx file\n",
    "2. Read in a subset of ids \n",
    "\n",
    "Generally, we recommend choice 2. \n",
    "\n",
    "## Example 1: Parse in a subset of samples/columns \n",
    "\n",
    "We'll demonstrate how to do so here using the ``vorinostat_ids`` we obtained [in the previous section](#metadataparse). "
   ]
  },
  {
   "cell_type": "code",
   "execution_count": 15,
   "metadata": {},
   "outputs": [],
   "source": [
    "from cmapPy.pandasGEXpress.parse import parse\n",
    "vorinostat_only_gctoo = parse(\"GSE70138_Broad_LINCS_Level5_COMPZ_n118050x12328_2017-03-06.gctx\", cid=vorinostat_ids)"
   ]
  },
  {
   "cell_type": "code",
   "execution_count": 16,
   "metadata": {},
   "outputs": [
    {
     "data": {
      "text/plain": [
       "(12328, 210)"
      ]
     },
     "execution_count": 16,
     "metadata": {},
     "output_type": "execute_result"
    }
   ],
   "source": [
    "# Check to make sure we have all 210 colums of expression data: \n",
    "vorinostat_only_gctoo.meth_df.shape #yup!"
   ]
  },
  {
   "cell_type": "markdown",
   "metadata": {},
   "source": [
    "## Example 2: Parse in a subset of genes/rows\n",
    "\n",
    "We'll demonstrate how to do so here using the ``landmark_gene_row_ids`` we obtained [in the previous section](#metadataparse). "
   ]
  },
  {
   "cell_type": "code",
   "execution_count": 17,
   "metadata": {},
   "outputs": [],
   "source": [
    "landmark_only_gctoo = parse(\"GSE70138_Broad_LINCS_Level5_COMPZ_n118050x12328_2017-03-06.gctx\", rid = landmark_gene_row_ids)"
   ]
  },
  {
   "cell_type": "code",
   "execution_count": 20,
   "metadata": {},
   "outputs": [
    {
     "name": "stdout",
     "output_type": "stream",
     "text": [
      "(978, 118050) (978, 118050)\n"
     ]
    }
   ],
   "source": [
    "# Check to make sure we only have 978 rows of expression data: \n",
    "print(landmark_only_gctoo.cov_df.shape, landmark_only_gctoo.meth_df.shape) #yup!"
   ]
  },
  {
   "cell_type": "markdown",
   "metadata": {},
   "source": [
    "Notes:\n",
    "\n",
    "* If you did want to read in the entire file (option 1 above), you would just parse in the gct/x without the ``cid`` argument.\n",
    "* Subsetting as demonstrated above is also available for row ids (rids). Here, this would correspond to only looking at certain genes of interest. "
   ]
  },
  {
   "cell_type": "markdown",
   "metadata": {},
   "source": [
    "<a id=\"annotations\"></a>\n",
    "## Add/delete annotations to an existing GCToo instance \n",
    "\n",
    "### Adding annotations\n",
    "Now we have our sig_id annotations, and also a GCToo instance of expression data. This would probably be more useful to us as one unified object, so let's annotate our `vorinostat_only_gctoo` with the id information relevant to it: "
   ]
  },
  {
   "cell_type": "code",
   "execution_count": 21,
   "metadata": {},
   "outputs": [
    {
     "data": {
      "text/html": [
       "<div>\n",
       "<style scoped>\n",
       "    .dataframe tbody tr th:only-of-type {\n",
       "        vertical-align: middle;\n",
       "    }\n",
       "\n",
       "    .dataframe tbody tr th {\n",
       "        vertical-align: top;\n",
       "    }\n",
       "\n",
       "    .dataframe thead th {\n",
       "        text-align: right;\n",
       "    }\n",
       "</style>\n",
       "<table border=\"1\" class=\"dataframe\">\n",
       "  <thead>\n",
       "    <tr style=\"text-align: right;\">\n",
       "      <th></th>\n",
       "      <th>sig_id</th>\n",
       "      <th>pert_id</th>\n",
       "      <th>pert_iname</th>\n",
       "      <th>pert_type</th>\n",
       "      <th>cell_id</th>\n",
       "      <th>pert_idose</th>\n",
       "      <th>pert_itime</th>\n",
       "      <th>distil_id</th>\n",
       "    </tr>\n",
       "  </thead>\n",
       "  <tbody>\n",
       "    <tr>\n",
       "      <th>15923</th>\n",
       "      <td>LJP007_A375_24H:A03</td>\n",
       "      <td>BRD-K81418486</td>\n",
       "      <td>vorinostat</td>\n",
       "      <td>trt_cp</td>\n",
       "      <td>A375</td>\n",
       "      <td>10.0 um</td>\n",
       "      <td>24 h</td>\n",
       "      <td>LJP007_A375_24H_X1_B20:A03|LJP007_A375_24H_X2_...</td>\n",
       "    </tr>\n",
       "    <tr>\n",
       "      <th>16302</th>\n",
       "      <td>LJP007_A549_24H:A03</td>\n",
       "      <td>BRD-K81418486</td>\n",
       "      <td>vorinostat</td>\n",
       "      <td>trt_cp</td>\n",
       "      <td>A549</td>\n",
       "      <td>10.0 um</td>\n",
       "      <td>24 h</td>\n",
       "      <td>LJP007_A549_24H_X1_F1B19:A03|LJP007_A549_24H_X...</td>\n",
       "    </tr>\n",
       "    <tr>\n",
       "      <th>16681</th>\n",
       "      <td>LJP007_ASC.C_24H:A03</td>\n",
       "      <td>BRD-K81418486</td>\n",
       "      <td>vorinostat</td>\n",
       "      <td>trt_cp</td>\n",
       "      <td>ASC.C</td>\n",
       "      <td>10.0 um</td>\n",
       "      <td>24 h</td>\n",
       "      <td>LJP007_ASC.C_24H_X1_B21:A03|LJP007_ASC.C_24H_X...</td>\n",
       "    </tr>\n",
       "    <tr>\n",
       "      <th>17056</th>\n",
       "      <td>LJP007_ASC_24H:A03</td>\n",
       "      <td>BRD-K81418486</td>\n",
       "      <td>vorinostat</td>\n",
       "      <td>trt_cp</td>\n",
       "      <td>ASC</td>\n",
       "      <td>10.0 um</td>\n",
       "      <td>24 h</td>\n",
       "      <td>LJP007_ASC_24H_X1_B21:A03|LJP007_ASC_24H_X2.A2...</td>\n",
       "    </tr>\n",
       "    <tr>\n",
       "      <th>17432</th>\n",
       "      <td>LJP007_CD34_24H:A03</td>\n",
       "      <td>BRD-K81418486</td>\n",
       "      <td>vorinostat</td>\n",
       "      <td>trt_cp</td>\n",
       "      <td>CD34</td>\n",
       "      <td>10.0 um</td>\n",
       "      <td>24 h</td>\n",
       "      <td>LJP007_CD34_24H_X2_B21:A03|LJP007_CD34_24H_X3....</td>\n",
       "    </tr>\n",
       "  </tbody>\n",
       "</table>\n",
       "</div>"
      ],
      "text/plain": [
       "                     sig_id        pert_id  pert_iname pert_type cell_id  \\\n",
       "15923   LJP007_A375_24H:A03  BRD-K81418486  vorinostat    trt_cp    A375   \n",
       "16302   LJP007_A549_24H:A03  BRD-K81418486  vorinostat    trt_cp    A549   \n",
       "16681  LJP007_ASC.C_24H:A03  BRD-K81418486  vorinostat    trt_cp   ASC.C   \n",
       "17056    LJP007_ASC_24H:A03  BRD-K81418486  vorinostat    trt_cp     ASC   \n",
       "17432   LJP007_CD34_24H:A03  BRD-K81418486  vorinostat    trt_cp    CD34   \n",
       "\n",
       "      pert_idose pert_itime                                          distil_id  \n",
       "15923    10.0 um       24 h  LJP007_A375_24H_X1_B20:A03|LJP007_A375_24H_X2_...  \n",
       "16302    10.0 um       24 h  LJP007_A549_24H_X1_F1B19:A03|LJP007_A549_24H_X...  \n",
       "16681    10.0 um       24 h  LJP007_ASC.C_24H_X1_B21:A03|LJP007_ASC.C_24H_X...  \n",
       "17056    10.0 um       24 h  LJP007_ASC_24H_X1_B21:A03|LJP007_ASC_24H_X2.A2...  \n",
       "17432    10.0 um       24 h  LJP007_CD34_24H_X2_B21:A03|LJP007_CD34_24H_X3....  "
      ]
     },
     "execution_count": 21,
     "metadata": {},
     "output_type": "execute_result"
    }
   ],
   "source": [
    "# first, we need to subset all the metadata information from our larger metadata DataFrame\n",
    "vorinostat_sig_id_info =  sig_info[sig_info[\"pert_iname\"] == \"vorinostat\"]\n",
    "# let's look at a couple rows! \n",
    "vorinostat_sig_id_info[0:5]"
   ]
  },
  {
   "cell_type": "code",
   "execution_count": 22,
   "metadata": {},
   "outputs": [
    {
     "data": {
      "text/plain": [
       "Index(['LJP007_A375_24H:A03', 'LJP007_A549_24H:A03', 'LJP007_ASC.C_24H:A03',\n",
       "       'LJP007_ASC_24H:A03', 'LJP007_CD34_24H:A03', 'LJP007_HA1E_24H:A03',\n",
       "       'LJP007_HCC515_24H:A03', 'LJP007_HEPG2_24H:A03', 'LJP007_HME1_24H:A03',\n",
       "       'LJP007_HT29_24H:A03',\n",
       "       ...\n",
       "       'LPROT003_A375_6H:P12', 'LPROT003_A549_6H:O08', 'LPROT003_A549_6H:O10',\n",
       "       'LPROT003_A549_6H:O12', 'LPROT003_NPC_6H:P07', 'LPROT003_NPC_6H:P09',\n",
       "       'LPROT003_NPC_6H:P11', 'LPROT003_PC3_6H:O07', 'LPROT003_PC3_6H:O09',\n",
       "       'LPROT003_PC3_6H:O11'],\n",
       "      dtype='object', name='sig_id', length=210)"
      ]
     },
     "execution_count": 22,
     "metadata": {},
     "output_type": "execute_result"
    }
   ],
   "source": [
    "# to add this data as our col_metadata_df, \n",
    "# the sig_id column needs to be the index of the metadata DataFrame\n",
    "# For details on why this is, please refer to GCTX requirements: https://clue.io/connectopedia/gctx_format\n",
    "vorinostat_sig_id_info.set_index(\"sig_id\", inplace=True)\n",
    "# now the data frame is indexed by sig_ids consistent with those of the data_df:\n",
    "vorinostat_sig_id_info.index"
   ]
  },
  {
   "cell_type": "code",
   "execution_count": 23,
   "metadata": {},
   "outputs": [],
   "source": [
    "# set the relevant annotations as a col_metadata_df: \n",
    "vorinostat_only_gctoo.col_metadata_df = vorinostat_sig_id_info"
   ]
  },
  {
   "cell_type": "markdown",
   "metadata": {},
   "source": [
    "### Deleting Annotations \n",
    "\n",
    "Hm, but now that we look at it we probably don't need the \"pert_type\" field; since we're only looking at vorinostat data, it's \"trt_cp\" (compound) for all samples. We could keep it anyway, but just for fun let's delete it: "
   ]
  },
  {
   "cell_type": "code",
   "execution_count": 24,
   "metadata": {},
   "outputs": [
    {
     "data": {
      "text/html": [
       "<div>\n",
       "<style scoped>\n",
       "    .dataframe tbody tr th:only-of-type {\n",
       "        vertical-align: middle;\n",
       "    }\n",
       "\n",
       "    .dataframe tbody tr th {\n",
       "        vertical-align: top;\n",
       "    }\n",
       "\n",
       "    .dataframe thead th {\n",
       "        text-align: right;\n",
       "    }\n",
       "</style>\n",
       "<table border=\"1\" class=\"dataframe\">\n",
       "  <thead>\n",
       "    <tr style=\"text-align: right;\">\n",
       "      <th></th>\n",
       "      <th>pert_id</th>\n",
       "      <th>pert_iname</th>\n",
       "      <th>cell_id</th>\n",
       "      <th>pert_idose</th>\n",
       "      <th>pert_itime</th>\n",
       "      <th>distil_id</th>\n",
       "    </tr>\n",
       "    <tr>\n",
       "      <th>cid</th>\n",
       "      <th></th>\n",
       "      <th></th>\n",
       "      <th></th>\n",
       "      <th></th>\n",
       "      <th></th>\n",
       "      <th></th>\n",
       "    </tr>\n",
       "  </thead>\n",
       "  <tbody>\n",
       "    <tr>\n",
       "      <th>LJP007_ASC_24H:A03</th>\n",
       "      <td>BRD-K81418486</td>\n",
       "      <td>vorinostat</td>\n",
       "      <td>ASC</td>\n",
       "      <td>10.0 um</td>\n",
       "      <td>24 h</td>\n",
       "      <td>LJP007_ASC_24H_X1_B21:A03|LJP007_ASC_24H_X2.A2...</td>\n",
       "    </tr>\n",
       "    <tr>\n",
       "      <th>LJP007_HUES3_24H:A03</th>\n",
       "      <td>BRD-K81418486</td>\n",
       "      <td>vorinostat</td>\n",
       "      <td>HUES3</td>\n",
       "      <td>10.0 um</td>\n",
       "      <td>24 h</td>\n",
       "      <td>LJP007_HUES3_24H_X2_B24:A03|LJP007_HUES3_24H_X...</td>\n",
       "    </tr>\n",
       "    <tr>\n",
       "      <th>LJP007_MNEU.E_24H:A03</th>\n",
       "      <td>BRD-K81418486</td>\n",
       "      <td>vorinostat</td>\n",
       "      <td>MNEU.E</td>\n",
       "      <td>10.0 um</td>\n",
       "      <td>24 h</td>\n",
       "      <td>LJP007_MNEU.E_24H_X1_B24:A03|LJP007_MNEU.E_24H...</td>\n",
       "    </tr>\n",
       "    <tr>\n",
       "      <th>LJP007_NEU_24H:A03</th>\n",
       "      <td>BRD-K81418486</td>\n",
       "      <td>vorinostat</td>\n",
       "      <td>NEU</td>\n",
       "      <td>10.0 um</td>\n",
       "      <td>24 h</td>\n",
       "      <td>LJP007_NEU_24H_X1_B21:A03|LJP007_NEU_24H_X2_B2...</td>\n",
       "    </tr>\n",
       "    <tr>\n",
       "      <th>LJP007_NPC.CAS9_24H:A03</th>\n",
       "      <td>BRD-K81418486</td>\n",
       "      <td>vorinostat</td>\n",
       "      <td>NPC.CAS9</td>\n",
       "      <td>10.0 um</td>\n",
       "      <td>24 h</td>\n",
       "      <td>LJP007_NPC.CAS9_24H_X1_B21:A03|LJP007_NPC.CAS9...</td>\n",
       "    </tr>\n",
       "  </tbody>\n",
       "</table>\n",
       "</div>"
      ],
      "text/plain": [
       "                               pert_id  pert_iname   cell_id pert_idose  \\\n",
       "cid                                                                       \n",
       "LJP007_ASC_24H:A03       BRD-K81418486  vorinostat       ASC    10.0 um   \n",
       "LJP007_HUES3_24H:A03     BRD-K81418486  vorinostat     HUES3    10.0 um   \n",
       "LJP007_MNEU.E_24H:A03    BRD-K81418486  vorinostat    MNEU.E    10.0 um   \n",
       "LJP007_NEU_24H:A03       BRD-K81418486  vorinostat       NEU    10.0 um   \n",
       "LJP007_NPC.CAS9_24H:A03  BRD-K81418486  vorinostat  NPC.CAS9    10.0 um   \n",
       "\n",
       "                        pert_itime  \\\n",
       "cid                                  \n",
       "LJP007_ASC_24H:A03            24 h   \n",
       "LJP007_HUES3_24H:A03          24 h   \n",
       "LJP007_MNEU.E_24H:A03         24 h   \n",
       "LJP007_NEU_24H:A03            24 h   \n",
       "LJP007_NPC.CAS9_24H:A03       24 h   \n",
       "\n",
       "                                                                 distil_id  \n",
       "cid                                                                         \n",
       "LJP007_ASC_24H:A03       LJP007_ASC_24H_X1_B21:A03|LJP007_ASC_24H_X2.A2...  \n",
       "LJP007_HUES3_24H:A03     LJP007_HUES3_24H_X2_B24:A03|LJP007_HUES3_24H_X...  \n",
       "LJP007_MNEU.E_24H:A03    LJP007_MNEU.E_24H_X1_B24:A03|LJP007_MNEU.E_24H...  \n",
       "LJP007_NEU_24H:A03       LJP007_NEU_24H_X1_B21:A03|LJP007_NEU_24H_X2_B2...  \n",
       "LJP007_NPC.CAS9_24H:A03  LJP007_NPC.CAS9_24H_X1_B21:A03|LJP007_NPC.CAS9...  "
      ]
     },
     "execution_count": 24,
     "metadata": {},
     "output_type": "execute_result"
    }
   ],
   "source": [
    "del vorinostat_only_gctoo.col_metadata_df[\"pert_type\"]\n",
    "vorinostat_only_gctoo.col_metadata_df[0:5]"
   ]
  },
  {
   "cell_type": "markdown",
   "metadata": {},
   "source": [
    "<a id=\"subsetting\"></a> \n",
    "## Subsetting GCToo instances \n",
    "\n",
    "Let's say that we're actually only interested in looking at vorinostat's signatures in A375 cells. First, are there vorinostat samples treated in this cell line in this GCToo instance? Let's check by first listing all unique cell lines present: "
   ]
  },
  {
   "cell_type": "code",
   "execution_count": 25,
   "metadata": {},
   "outputs": [
    {
     "data": {
      "text/plain": [
       "array(['ASC', 'HUES3', 'MNEU.E', 'NEU', 'NPC.CAS9', 'NPC', 'SKL', 'A375',\n",
       "       'A549', 'PC3', 'ASC.C', 'CD34', 'HA1E', 'HCC515', 'HEPG2', 'HME1',\n",
       "       'HT29', 'HUVEC', 'JURKAT', 'MCF7', 'NPC.TAK', 'SKL.C'],\n",
       "      dtype=object)"
      ]
     },
     "execution_count": 25,
     "metadata": {},
     "output_type": "execute_result"
    }
   ],
   "source": [
    "vorinostat_only_gctoo.col_metadata_df[\"cell_id\"].unique()"
   ]
  },
  {
   "cell_type": "markdown",
   "metadata": {},
   "source": [
    "Let's subset our GCToo instance to only include samples/columns corresponding to vorinostat-treated A375 cells."
   ]
  },
  {
   "cell_type": "code",
   "execution_count": 26,
   "metadata": {},
   "outputs": [
    {
     "data": {
      "text/plain": [
       "array(['A375'], dtype=object)"
      ]
     },
     "execution_count": 26,
     "metadata": {},
     "output_type": "execute_result"
    }
   ],
   "source": [
    "import cmapPy.pandasGEXpress.subset_gctoo as sg\n",
    "\n",
    "# first, get the cid values we want to keep \n",
    "vorinostat_a375_ids = vorinostat_only_gctoo.col_metadata_df.index[vorinostat_only_gctoo.col_metadata_df[\"cell_id\"] == \"A375\"]\n",
    "\n",
    "# subset GCToo instance to only include these values \n",
    "vorinostat_a375_gctoo = sg.subset_gctoo(vorinostat_only_gctoo, cid=list(vorinostat_a375_ids.values))\n",
    "\n",
    "# Now, our samples only correspond to one cell type: A375\n",
    "vorinostat_a375_gctoo.col_metadata_df[\"cell_id\"].unique()"
   ]
  },
  {
   "cell_type": "markdown",
   "metadata": {},
   "source": [
    "Note that you can also subset by excluding rids/cids. For instance, if we wanted to include all cell lines **except** for A375, we could do so as follows: "
   ]
  },
  {
   "cell_type": "code",
   "execution_count": 27,
   "metadata": {},
   "outputs": [
    {
     "data": {
      "text/plain": [
       "array(['ASC', 'HUES3', 'MNEU.E', 'NEU', 'NPC.CAS9', 'NPC', 'SKL', 'A549',\n",
       "       'PC3', 'ASC.C', 'CD34', 'HA1E', 'HCC515', 'HEPG2', 'HME1', 'HT29',\n",
       "       'HUVEC', 'JURKAT', 'MCF7', 'NPC.TAK', 'SKL.C'], dtype=object)"
      ]
     },
     "execution_count": 27,
     "metadata": {},
     "output_type": "execute_result"
    }
   ],
   "source": [
    "# subset vorinostat_only_gctoo to exclude A375 samples only\n",
    "vorinostat_except_a375_gctoo = sg.subset_gctoo(vorinostat_only_gctoo, exclude_cid=vorinostat_a375_ids)\n",
    "\n",
    "# Now we have all cell lines except for A375: \n",
    "vorinostat_except_a375_gctoo.col_metadata_df[\"cell_id\"].unique()"
   ]
  },
  {
   "cell_type": "markdown",
   "metadata": {},
   "source": [
    "You could subset genes/rows of the GCToo analogously. "
   ]
  },
  {
   "cell_type": "markdown",
   "metadata": {},
   "source": [
    "<a link=\"merging\"></a>\n",
    "## Merging GCToo objects/.gct/.gctx files \n",
    "\n",
    "If you'd like to concatenate two or more objects/files, you have two options: \n",
    "\n",
    "1. Concatenate files from the command line \n",
    "2. Concatenate GCToo objects within a Python session. \n",
    "\n",
    "To continue with our GEO-based example, here we'll demonstrate option 2; for details on how to concatenate on the command line, please see [our documentation](https://clue.io/cmapPy/pandasGEXpress.html).\n",
    "\n",
    "### Concatenating GCToo objects in a Python session \n",
    "\n",
    "We have our vorinostat expression data in A375; let's say we want to also get belinostat expression data in A375 (separately, for purposes of demonstration) and then combine these two GCToos. First, some prep: let's get the belinostat expression data in A375 that we need to do this operation: "
   ]
  },
  {
   "cell_type": "code",
   "execution_count": 28,
   "metadata": {},
   "outputs": [],
   "source": [
    "# get sig info corresponding to belinostat-treated A375 samples\n",
    "belinostat_a375_sig_info = sig_info[(sig_info[\"pert_iname\"] == \"belinostat\") & (sig_info[\"cell_id\"] == \"A375\")]\n",
    "# set sig_id as index \n",
    "belinostat_a375_sig_info.set_index(\"sig_id\", inplace=True)\n",
    "# parse in only expression data corresponding to belinostat-treated A375 samples\n",
    "belinostat_a375_gctoo = parse(\"GSE70138_Broad_LINCS_Level5_COMPZ_n118050x12328_2017-03-06.gctx\", cid=belinostat_a375_sig_info.index)\n",
    "# annotate belinostat_a375_gctoo with its corresponding sample annotations\n",
    "belinostat_a375_gctoo.col_metadata_df = belinostat_a375_sig_info.copy()"
   ]
  },
  {
   "cell_type": "markdown",
   "metadata": {},
   "source": [
    "And now we can concatenate our belinostat & vorinostat GCToos as follows:"
   ]
  },
  {
   "cell_type": "code",
   "execution_count": 35,
   "metadata": {},
   "outputs": [
    {
     "name": "stdout",
     "output_type": "stream",
     "text": [
      "unique compound data present: \n",
      "['vorinostat' 'belinostat']\n",
      "unique cell line data present: \n",
      "['A375']\n",
      "combined gctoo expression data shape:\n",
      "(12328, 33) (12328, 33)\n"
     ]
    }
   ],
   "source": [
    "import cmapPy.pandasGEXpress.concat as cg \n",
    "# horizontally stack the two GCToo instances (note, you can also vertically stack)\n",
    "HDAC_a375_gctoo = cg.hstack([vorinostat_a375_gctoo, belinostat_a375_gctoo])\n",
    "\n",
    "# Now we have a gctoo corresponding to two compounds, in one cell line: \n",
    "print(\"unique compound data present: \") \n",
    "print(HDAC_a375_gctoo.col_metadata_df[\"pert_iname\"].unique())\n",
    "print(\"unique cell line data present: \")\n",
    "print(HDAC_a375_gctoo.col_metadata_df[\"cell_id\"].unique())\n",
    "\n",
    "# Also note we still have the same genes as before, just with additional samples of data: \n",
    "print(\"combined gctoo expression data shape:\")\n",
    "print(HDAC_a375_gctoo.meth_df.shape,HDAC_a375_gctoo.cov_df.shape)"
   ]
  },
  {
   "cell_type": "markdown",
   "metadata": {},
   "source": [
    "### Concatenating two .gct/x files on the command line\n",
    "\n",
    "We provide the command line tool `concat` to concatenate either .gcts or .gctx files on the command line. \n",
    "\n",
    "Sample usage: \n",
    "\n",
    "` concat--concat_direction horiz --input_filepaths first_file.gct second_file.gct` will output a file named concated.gctx; you can specify a different outname if you prefer. On the command line, type `concat -h` to see help options. "
   ]
  },
  {
   "cell_type": "markdown",
   "metadata": {},
   "source": [
    "<a id=\"newGCToo\"></a>\n",
    "## Constructing a new GCToo instance programatically \n",
    "\n",
    "If you have your own DataFrames of data, you can also construct your own GCToo instance (note that to do so, you need to fulfill the [requirements of a valid gctx](clue.io/code)). Just for illustrative purposes, let's make one using copies of our HDAC GCToo DataFrames, so that we can also associate a single [multi-index DataFrame](http://pandas.pydata.org/pandas-docs/stable/advanced.html) of our combined data_df, row_metadata_df, and column_data_df with this GCToo instance. \n",
    "\n",
    "**Note**: By default, the GCToo constructor does not make a multi_index_df; details on this and other optional arguments [here](http://cmappy.readthedocs.io/en/latest/pandasGEXpress.html#gctoo-class)."
   ]
  },
  {
   "cell_type": "code",
   "execution_count": 39,
   "metadata": {},
   "outputs": [
    {
     "ename": "AttributeError",
     "evalue": "'GCToo' object has no attribute 'multi_index_df'",
     "output_type": "error",
     "traceback": [
      "\u001b[0;31m---------------------------------------------------------------------------\u001b[0m",
      "\u001b[0;31mAttributeError\u001b[0m                            Traceback (most recent call last)",
      "Input \u001b[0;32mIn [39]\u001b[0m, in \u001b[0;36m<cell line: 9>\u001b[0;34m()\u001b[0m\n\u001b[1;32m      3\u001b[0m HDAC_a375_gctoo_with_multiindex \u001b[39m=\u001b[39m GCToo\u001b[39m.\u001b[39mGCToo(meth_df\u001b[39m=\u001b[39mHDAC_a375_gctoo\u001b[39m.\u001b[39mmeth_df\u001b[39m.\u001b[39mcopy(), cov_df\u001b[39m=\u001b[39mHDAC_a375_gctoo\u001b[39m.\u001b[39mcov_df\u001b[39m.\u001b[39mcopy(),\n\u001b[1;32m      4\u001b[0m                                               row_metadata_df\u001b[39m=\u001b[39mHDAC_a375_gctoo\u001b[39m.\u001b[39mrow_metadata_df\u001b[39m.\u001b[39mcopy(), \n\u001b[1;32m      5\u001b[0m                                               col_metadata_df\u001b[39m=\u001b[39mHDAC_a375_gctoo\u001b[39m.\u001b[39mcol_metadata_df\u001b[39m.\u001b[39mcopy(), \n\u001b[1;32m      6\u001b[0m                                               make_multiindex\u001b[39m=\u001b[39m\u001b[39mFalse\u001b[39;00m)\n\u001b[1;32m      8\u001b[0m \u001b[39m# Let's take a look at a subset of this multiindex DataFrame; this can be useful for indexing etc.\u001b[39;00m\n\u001b[0;32m----> 9\u001b[0m HDAC_a375_gctoo_with_multiindex\u001b[39m.\u001b[39;49mmulti_index_df[\u001b[39m0\u001b[39m:\u001b[39m5\u001b[39m]\n",
      "\u001b[0;31mAttributeError\u001b[0m: 'GCToo' object has no attribute 'multi_index_df'"
     ]
    }
   ],
   "source": [
    "import cmapPy.pandasGEXpress.GCToo as GCToo\n",
    "\n",
    "HDAC_a375_gctoo_with_multiindex = GCToo.GCToo(meth_df=HDAC_a375_gctoo.meth_df.copy(), cov_df=HDAC_a375_gctoo.cov_df.copy(),\n",
    "                                              row_metadata_df=HDAC_a375_gctoo.row_metadata_df.copy(), \n",
    "                                              col_metadata_df=HDAC_a375_gctoo.col_metadata_df.copy(), \n",
    "                                              make_multiindex=True)\n",
    "\n",
    "# Let's take a look at a subset of this multiindex DataFrame; this can be useful for indexing etc.\n",
    "HDAC_a375_gctoo_with_multiindex.multi_index_df[0:5]"
   ]
  },
  {
   "cell_type": "markdown",
   "metadata": {},
   "source": [
    "For more information on multi-index DataFrames, please refer to the PANDAS project documentation. "
   ]
  },
  {
   "cell_type": "markdown",
   "metadata": {},
   "source": [
    "<a link=\"pandas\"></a>\n",
    "## Using pandas tools with your GCToo instance \n",
    "\n",
    "A big reason why we wrote `pandasGEXpress` was to enable users to maximize their use of `pandas`, `scikit-learn`, and other powerful and robustly-developed Python data science packages. Interacting with such tools simply requires referencing the relevant DataFrame attributes of your GCToo instance; here, we'll demonstrate how to do some basic arithmetic and grouping tasks on components of a GCToo instance. It should go without saying that the examples below are common but also fairly trivial examples of the wide functionality that libraries like pandas and sci-kit learn provide. \n",
    "\n",
    "Another `pandas` functionality that is likely to be of use is its `groupby` tools; as long as your data/annotations aren't too big, it can work nicely with your GCToo instance's `multi_index_df`.\n",
    "\n",
    "### Column/row-wise means\n",
    "\n",
    "Let's go back to our vorinostat-treated A375 cells. What is the mean expression across all samples? "
   ]
  },
  {
   "cell_type": "code",
   "execution_count": null,
   "metadata": {},
   "outputs": [
    {
     "data": {
      "text/plain": [
       "cid\n",
       "LPROT003_A375_6H:P08    0.057203\n",
       "LPROT003_A375_6H:P10    0.128851\n",
       "LPROT003_A375_6H:P12    0.532979\n",
       "LJP007_A375_24H:A03     0.622918\n",
       "LJP008_A375_24H:G07     0.068805\n",
       "LJP008_A375_24H:G08    -0.100531\n",
       "LJP008_A375_24H:G09     0.012339\n",
       "LJP008_A375_24H:G10    -0.228747\n",
       "LJP008_A375_24H:G11    -0.034701\n",
       "LJP008_A375_24H:G12    -0.113891\n",
       "LJP008_A375_24H:A03     0.167949\n",
       "LJP009_A375_24H:A03     0.351806\n",
       "LPROT001_A375_6H:P07    0.163962\n",
       "LPROT001_A375_6H:P09   -0.199321\n",
       "LPROT001_A375_6H:P11    0.028832\n",
       "LPROT002_A375_6H:P07   -0.050950\n",
       "LPROT002_A375_6H:P09    0.146417\n",
       "LPROT002_A375_6H:P11    0.150106\n",
       "dtype: float32"
      ]
     },
     "execution_count": 48,
     "metadata": {},
     "output_type": "execute_result"
    }
   ],
   "source": [
    "import pandas as pd \n",
    "\n",
    "vorinostat_a375_gctoo.data_df.mean(axis = 0) #easy-peasy"
   ]
  },
  {
   "cell_type": "markdown",
   "metadata": {},
   "source": [
    "If we wanted to determine the mean expression across all samples for individual genes, we would set axis=1. \n",
    "\n",
    "### Pairwise correlation of columns \n",
    "\n",
    "How correlated are our samples? "
   ]
  },
  {
   "cell_type": "code",
   "execution_count": null,
   "metadata": {},
   "outputs": [
    {
     "data": {
      "text/html": [
       "<div>\n",
       "<style scoped>\n",
       "    .dataframe tbody tr th:only-of-type {\n",
       "        vertical-align: middle;\n",
       "    }\n",
       "\n",
       "    .dataframe tbody tr th {\n",
       "        vertical-align: top;\n",
       "    }\n",
       "\n",
       "    .dataframe thead th {\n",
       "        text-align: right;\n",
       "    }\n",
       "</style>\n",
       "<table border=\"1\" class=\"dataframe\">\n",
       "  <thead>\n",
       "    <tr style=\"text-align: right;\">\n",
       "      <th>cid</th>\n",
       "      <th>LPROT003_A375_6H:P08</th>\n",
       "      <th>LPROT003_A375_6H:P10</th>\n",
       "      <th>LPROT003_A375_6H:P12</th>\n",
       "      <th>LJP007_A375_24H:A03</th>\n",
       "      <th>LJP008_A375_24H:G07</th>\n",
       "      <th>LJP008_A375_24H:G08</th>\n",
       "      <th>LJP008_A375_24H:G09</th>\n",
       "      <th>LJP008_A375_24H:G10</th>\n",
       "      <th>LJP008_A375_24H:G11</th>\n",
       "      <th>LJP008_A375_24H:G12</th>\n",
       "      <th>LJP008_A375_24H:A03</th>\n",
       "      <th>LJP009_A375_24H:A03</th>\n",
       "      <th>LPROT001_A375_6H:P07</th>\n",
       "      <th>LPROT001_A375_6H:P09</th>\n",
       "      <th>LPROT001_A375_6H:P11</th>\n",
       "      <th>LPROT002_A375_6H:P07</th>\n",
       "      <th>LPROT002_A375_6H:P09</th>\n",
       "      <th>LPROT002_A375_6H:P11</th>\n",
       "    </tr>\n",
       "    <tr>\n",
       "      <th>cid</th>\n",
       "      <th></th>\n",
       "      <th></th>\n",
       "      <th></th>\n",
       "      <th></th>\n",
       "      <th></th>\n",
       "      <th></th>\n",
       "      <th></th>\n",
       "      <th></th>\n",
       "      <th></th>\n",
       "      <th></th>\n",
       "      <th></th>\n",
       "      <th></th>\n",
       "      <th></th>\n",
       "      <th></th>\n",
       "      <th></th>\n",
       "      <th></th>\n",
       "      <th></th>\n",
       "      <th></th>\n",
       "    </tr>\n",
       "  </thead>\n",
       "  <tbody>\n",
       "    <tr>\n",
       "      <th>LPROT003_A375_6H:P08</th>\n",
       "      <td>1.000000</td>\n",
       "      <td>0.490662</td>\n",
       "      <td>0.532542</td>\n",
       "      <td>0.389154</td>\n",
       "      <td>0.320056</td>\n",
       "      <td>0.112311</td>\n",
       "      <td>-0.054310</td>\n",
       "      <td>-0.264264</td>\n",
       "      <td>-0.017371</td>\n",
       "      <td>-0.216171</td>\n",
       "      <td>0.224702</td>\n",
       "      <td>0.289866</td>\n",
       "      <td>0.259601</td>\n",
       "      <td>0.138528</td>\n",
       "      <td>0.301235</td>\n",
       "      <td>0.330139</td>\n",
       "      <td>0.479861</td>\n",
       "      <td>0.338621</td>\n",
       "    </tr>\n",
       "    <tr>\n",
       "      <th>LPROT003_A375_6H:P10</th>\n",
       "      <td>0.490662</td>\n",
       "      <td>1.000000</td>\n",
       "      <td>0.525302</td>\n",
       "      <td>0.419269</td>\n",
       "      <td>0.393848</td>\n",
       "      <td>0.122997</td>\n",
       "      <td>-0.049637</td>\n",
       "      <td>-0.235931</td>\n",
       "      <td>-0.097678</td>\n",
       "      <td>-0.251152</td>\n",
       "      <td>0.270517</td>\n",
       "      <td>0.334858</td>\n",
       "      <td>0.271433</td>\n",
       "      <td>0.161902</td>\n",
       "      <td>0.292011</td>\n",
       "      <td>0.343693</td>\n",
       "      <td>0.482537</td>\n",
       "      <td>0.436149</td>\n",
       "    </tr>\n",
       "    <tr>\n",
       "      <th>LPROT003_A375_6H:P12</th>\n",
       "      <td>0.532542</td>\n",
       "      <td>0.525302</td>\n",
       "      <td>1.000000</td>\n",
       "      <td>0.481375</td>\n",
       "      <td>0.284347</td>\n",
       "      <td>-0.064143</td>\n",
       "      <td>-0.093113</td>\n",
       "      <td>-0.440806</td>\n",
       "      <td>-0.040237</td>\n",
       "      <td>-0.379225</td>\n",
       "      <td>0.207452</td>\n",
       "      <td>0.349956</td>\n",
       "      <td>0.268879</td>\n",
       "      <td>0.035311</td>\n",
       "      <td>0.330700</td>\n",
       "      <td>0.217021</td>\n",
       "      <td>0.428786</td>\n",
       "      <td>0.359212</td>\n",
       "    </tr>\n",
       "    <tr>\n",
       "      <th>LJP007_A375_24H:A03</th>\n",
       "      <td>0.389154</td>\n",
       "      <td>0.419269</td>\n",
       "      <td>0.481375</td>\n",
       "      <td>1.000000</td>\n",
       "      <td>0.749817</td>\n",
       "      <td>0.065044</td>\n",
       "      <td>-0.160676</td>\n",
       "      <td>-0.324362</td>\n",
       "      <td>-0.159517</td>\n",
       "      <td>-0.358513</td>\n",
       "      <td>0.701374</td>\n",
       "      <td>0.879317</td>\n",
       "      <td>0.187186</td>\n",
       "      <td>0.074630</td>\n",
       "      <td>0.211691</td>\n",
       "      <td>0.274204</td>\n",
       "      <td>0.362895</td>\n",
       "      <td>0.332583</td>\n",
       "    </tr>\n",
       "    <tr>\n",
       "      <th>LJP008_A375_24H:G07</th>\n",
       "      <td>0.320056</td>\n",
       "      <td>0.393848</td>\n",
       "      <td>0.284347</td>\n",
       "      <td>0.749817</td>\n",
       "      <td>1.000000</td>\n",
       "      <td>0.260146</td>\n",
       "      <td>-0.069691</td>\n",
       "      <td>-0.129586</td>\n",
       "      <td>-0.174882</td>\n",
       "      <td>-0.182362</td>\n",
       "      <td>0.708696</td>\n",
       "      <td>0.720299</td>\n",
       "      <td>0.173727</td>\n",
       "      <td>0.199501</td>\n",
       "      <td>0.187436</td>\n",
       "      <td>0.355938</td>\n",
       "      <td>0.382282</td>\n",
       "      <td>0.383166</td>\n",
       "    </tr>\n",
       "  </tbody>\n",
       "</table>\n",
       "</div>"
      ],
      "text/plain": [
       "cid                   LPROT003_A375_6H:P08  LPROT003_A375_6H:P10  \\\n",
       "cid                                                                \n",
       "LPROT003_A375_6H:P08              1.000000              0.490662   \n",
       "LPROT003_A375_6H:P10              0.490662              1.000000   \n",
       "LPROT003_A375_6H:P12              0.532542              0.525302   \n",
       "LJP007_A375_24H:A03               0.389154              0.419269   \n",
       "LJP008_A375_24H:G07               0.320056              0.393848   \n",
       "\n",
       "cid                   LPROT003_A375_6H:P12  LJP007_A375_24H:A03  \\\n",
       "cid                                                               \n",
       "LPROT003_A375_6H:P08              0.532542             0.389154   \n",
       "LPROT003_A375_6H:P10              0.525302             0.419269   \n",
       "LPROT003_A375_6H:P12              1.000000             0.481375   \n",
       "LJP007_A375_24H:A03               0.481375             1.000000   \n",
       "LJP008_A375_24H:G07               0.284347             0.749817   \n",
       "\n",
       "cid                   LJP008_A375_24H:G07  LJP008_A375_24H:G08  \\\n",
       "cid                                                              \n",
       "LPROT003_A375_6H:P08             0.320056             0.112311   \n",
       "LPROT003_A375_6H:P10             0.393848             0.122997   \n",
       "LPROT003_A375_6H:P12             0.284347            -0.064143   \n",
       "LJP007_A375_24H:A03              0.749817             0.065044   \n",
       "LJP008_A375_24H:G07              1.000000             0.260146   \n",
       "\n",
       "cid                   LJP008_A375_24H:G09  LJP008_A375_24H:G10  \\\n",
       "cid                                                              \n",
       "LPROT003_A375_6H:P08            -0.054310            -0.264264   \n",
       "LPROT003_A375_6H:P10            -0.049637            -0.235931   \n",
       "LPROT003_A375_6H:P12            -0.093113            -0.440806   \n",
       "LJP007_A375_24H:A03             -0.160676            -0.324362   \n",
       "LJP008_A375_24H:G07             -0.069691            -0.129586   \n",
       "\n",
       "cid                   LJP008_A375_24H:G11  LJP008_A375_24H:G12  \\\n",
       "cid                                                              \n",
       "LPROT003_A375_6H:P08            -0.017371            -0.216171   \n",
       "LPROT003_A375_6H:P10            -0.097678            -0.251152   \n",
       "LPROT003_A375_6H:P12            -0.040237            -0.379225   \n",
       "LJP007_A375_24H:A03             -0.159517            -0.358513   \n",
       "LJP008_A375_24H:G07             -0.174882            -0.182362   \n",
       "\n",
       "cid                   LJP008_A375_24H:A03  LJP009_A375_24H:A03  \\\n",
       "cid                                                              \n",
       "LPROT003_A375_6H:P08             0.224702             0.289866   \n",
       "LPROT003_A375_6H:P10             0.270517             0.334858   \n",
       "LPROT003_A375_6H:P12             0.207452             0.349956   \n",
       "LJP007_A375_24H:A03              0.701374             0.879317   \n",
       "LJP008_A375_24H:G07              0.708696             0.720299   \n",
       "\n",
       "cid                   LPROT001_A375_6H:P07  LPROT001_A375_6H:P09  \\\n",
       "cid                                                                \n",
       "LPROT003_A375_6H:P08              0.259601              0.138528   \n",
       "LPROT003_A375_6H:P10              0.271433              0.161902   \n",
       "LPROT003_A375_6H:P12              0.268879              0.035311   \n",
       "LJP007_A375_24H:A03               0.187186              0.074630   \n",
       "LJP008_A375_24H:G07               0.173727              0.199501   \n",
       "\n",
       "cid                   LPROT001_A375_6H:P11  LPROT002_A375_6H:P07  \\\n",
       "cid                                                                \n",
       "LPROT003_A375_6H:P08              0.301235              0.330139   \n",
       "LPROT003_A375_6H:P10              0.292011              0.343693   \n",
       "LPROT003_A375_6H:P12              0.330700              0.217021   \n",
       "LJP007_A375_24H:A03               0.211691              0.274204   \n",
       "LJP008_A375_24H:G07               0.187436              0.355938   \n",
       "\n",
       "cid                   LPROT002_A375_6H:P09  LPROT002_A375_6H:P11  \n",
       "cid                                                               \n",
       "LPROT003_A375_6H:P08              0.479861              0.338621  \n",
       "LPROT003_A375_6H:P10              0.482537              0.436149  \n",
       "LPROT003_A375_6H:P12              0.428786              0.359212  \n",
       "LJP007_A375_24H:A03               0.362895              0.332583  \n",
       "LJP008_A375_24H:G07               0.382282              0.383166  "
      ]
     },
     "execution_count": 49,
     "metadata": {},
     "output_type": "execute_result"
    }
   ],
   "source": [
    "vorinostat_a375_cors = vorinostat_a375_gctoo.data_df.corr()\n",
    "vorinostat_a375_cors[0:5] #only showing first 5 rows"
   ]
  },
  {
   "cell_type": "markdown",
   "metadata": {},
   "source": [
    "<a id=\"plotting\"></a>\n",
    "## Plotting with GCToo instances \n",
    "\n",
    "Because the attributes of a GCToo instance are pandas DataFrames, you can use any plotting libraries compatible with pandas DataFrames to generate plots; we frequently use [seaborn](https://seaborn.pydata.org/) and [matplotlib](https://matplotlib.org/). For simple plots, pandas also provides built-in plotting functionality for DataFrame objects.  \n",
    "\n",
    "As an illustrative example, we calculate the correlations across samples again, but this time also plot it as a heatmap--all in one!"
   ]
  },
  {
   "cell_type": "code",
   "execution_count": null,
   "metadata": {},
   "outputs": [
    {
     "data": {
      "image/png": "[encoded data removed]",
      "text/plain": [
       "<Figure size 432x288 with 2 Axes>"
      ]
     },
     "metadata": {},
     "output_type": "display_data"
    }
   ],
   "source": [
    "import seaborn as sns\n",
    "import matplotlib.pyplot as plt\n",
    "sns.set()\n",
    "\n",
    "\n",
    "sns.heatmap(vorinostat_a375_gctoo.data_df.corr(), cmap='plasma')\n",
    "plt.show()"
   ]
  },
  {
   "cell_type": "markdown",
   "metadata": {},
   "source": [
    "<a id=\"writing\"></a>\n",
    "## Writing GCToo instances to file \n",
    "\n",
    "Here's how you would write your GCToo instance as a .gctx; note that if you'd like to write to .gct, the syntax is identical but you need to import ``write_gct`` instead. "
   ]
  },
  {
   "cell_type": "code",
   "execution_count": null,
   "metadata": {},
   "outputs": [],
   "source": [
    "import cmapPy.pandasGEXpress.write_gctx as wg\n",
    "\n",
    "# write GCToo instance to .gctx\n",
    "wg.write(belinostat_a375_gctoo, \"belinostat_a375\")"
   ]
  },
  {
   "cell_type": "markdown",
   "metadata": {},
   "source": [
    "<a id=\"converting\"></a>\n",
    "## Converting .gct <-> .gctx \n",
    "\n",
    "Converting from a gct to a gctx might be useful if you have a large gct and want faster IO in the future. We provide the following command line tools to do so: \n",
    "\n",
    "* `gct2gctx`\n",
    "* `gctx2gct`\n",
    "\n",
    "**To write some_thing.gct -> some_thing.gctx:**\n",
    "\n",
    "gct2gctx -filename path/to/in_name.gct -output_filepath /path/to/out_name\n",
    "\n",
    "Converting a gctx to a gct might be useful if you want to look at your .gctx file in a text editor or something similar. \n",
    "\n",
    "**To write some_thing.gctx -> some_thing.gct in working directory:**\n",
    "\n",
    "gctx2gct -filename path/to/in_name.gctx -output_filepath /path/to/out_name\n"
   ]
  },
  {
   "cell_type": "code",
   "execution_count": null,
   "metadata": {},
   "outputs": [
    {
     "data": {
      "text/plain": [
       "'/home/ubuntu/code/cmapPy/tutorials'"
      ]
     },
     "execution_count": 11,
     "metadata": {},
     "output_type": "execute_result"
    }
   ],
   "source": [
    "os.getcwd()"
   ]
  },
  {
   "cell_type": "code",
   "execution_count": null,
   "metadata": {},
   "outputs": [],
   "source": []
  }
 ],
 "metadata": {
  "anaconda-cloud": {},
  "kernelspec": {
   "display_name": "Python 3 (ipykernel)",
   "language": "python",
   "name": "python3"
  },
  "language_info": {
   "codemirror_mode": {
    "name": "ipython",
    "version": 3
   },
   "file_extension": ".py",
   "mimetype": "text/x-python",
   "name": "python",
   "nbconvert_exporter": "python",
   "pygments_lexer": "ipython3",
   "version": "3.9.10"
  }
 },
 "nbformat": 4,
 "nbformat_minor": 4
}
