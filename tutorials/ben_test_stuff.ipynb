{
 "cells": [
  {
   "cell_type": "code",
   "execution_count": 12,
   "metadata": {},
   "outputs": [],
   "source": [
    "import pandas as pd\n",
    "import numpy as np\n",
    "import h5py\n",
    "import cmapPy\n",
    "import cmapPy.pandasGEXpress.write_gctx as write_gctx\n",
    "from cmapPy.pandasGEXpress.parse_gctx import parse\n",
    "from importlib import reload\n",
    "import cmapPy.pandasGEXpress.GCToo as GCToo\n"
   ]
  },
  {
   "cell_type": "code",
   "execution_count": 4,
   "metadata": {},
   "outputs": [
    {
     "name": "stdout",
     "output_type": "stream",
     "text": [
      "b'mGCTX1.0'\n",
      "src: /home/bsiranos/projects/cmapR/tests/testthat/test_n5x10.gctx\n",
      "meth_df: [5 rows x 10 columns]\n",
      "cov_df: [5 rows x 10 columns]\n",
      "row_metadata_df: [5 rows x 0 columns]\n",
      "col_metadata_df: [10 rows x 0 columns]\n",
      "cid         1         2         3         4         5         6         7  \\\n",
      "rid                                                                         \n",
      "1    0.413253 -0.848010 -1.192238  0.201875  0.085363  0.418502  0.306778   \n",
      "2   -0.304028  0.717581  1.496278 -0.633134  0.762708  0.949611  1.423488   \n",
      "3   -0.353891  0.357976  0.016063 -0.966516 -1.085235  0.212001 -0.928770   \n",
      "4    1.688939  1.369050 -0.029643 -0.433559  0.032954  1.429242 -1.066902   \n",
      "5    0.038399  0.578928  1.024624  1.822458  0.951131  0.906120 -1.899356   \n",
      "\n",
      "cid         8         9        10  \n",
      "rid                                \n",
      "1    0.441256 -0.348707 -1.523495  \n",
      "2   -0.797290  1.220535 -1.553791  \n",
      "3   -0.082590 -0.855964 -1.508178  \n",
      "4    1.451474 -0.021609  0.603870  \n",
      "5    1.272806  0.208444  0.472536  \n",
      "cid         1         2         3         4         5         6         7  \\\n",
      "rid                                                                         \n",
      "1    0.413253 -0.848010 -1.192238  0.201875  0.085363  0.418502  0.306778   \n",
      "2   -0.304028  0.717581  1.496278 -0.633134  0.762708  0.949611  1.423488   \n",
      "3   -0.353891  0.357976  0.016063 -0.966516 -1.085235  0.212001 -0.928770   \n",
      "4    1.688939  1.369050 -0.029643 -0.433559  0.032954  1.429242 -1.066902   \n",
      "5    0.038399  0.578928  1.024624  1.822458  0.951131  0.906120 -1.899356   \n",
      "\n",
      "cid         8         9        10  \n",
      "rid                                \n",
      "1    0.441256 -0.348707 -1.523495  \n",
      "2   -0.797290  1.220535 -1.553791  \n",
      "3   -0.082590 -0.855964 -1.508178  \n",
      "4    1.451474 -0.021609  0.603870  \n",
      "5    1.272806  0.208444  0.472536  \n"
     ]
    }
   ],
   "source": [
    "test1 = cmapPy.pandasGEXpress.parse_gctx.parse('/home/bsiranos/projects/cmapR/tests/testthat/test_n5x10.gctx')\n",
    "print(test1)\n",
    "\n",
    "cmapPy.pandasGEXpress.write_gctx.write(test1, '/home/bsiranos/test1.gctx')\n",
    "test2 = cmapPy.pandasGEXpress.parse_gctx.parse('/home/bsiranos/test1.gctx')\n",
    "\n",
    "print(test1.meth_df)\n",
    "print(test2.meth_df)"
   ]
  },
  {
   "cell_type": "code",
   "execution_count": 33,
   "metadata": {},
   "outputs": [
    {
     "name": "stdout",
     "output_type": "stream",
     "text": [
      "(2, 2)\n",
      "(2, 2)\n",
      "(4, 2)\n"
     ]
    }
   ],
   "source": [
    "df1 = pd.DataFrame([[1, 2], [3, 4]], columns=['A', 'B'], index=['a', 'b'])\n",
    "df2 = pd.DataFrame([[5, 6], [7, 8]], columns=['A', 'B'], index=['a', 'b'])\n",
    "df3 = pd.concat([df1, df2], keys=('df1','df2'))\n",
    "print(df1.shape)\n",
    "print(df2.shape)\n",
    "print(df3.shape)"
   ]
  },
  {
   "cell_type": "code",
   "execution_count": 25,
   "metadata": {},
   "outputs": [
    {
     "name": "stdout",
     "output_type": "stream",
     "text": [
      "(2, 10, 5)\n"
     ]
    }
   ],
   "source": [
    "full_path = '/home/bsiranos/projects/cmapR/tests/testthat/test_n5x10.gctx'\n",
    "data_node = \"/0/DATA/0/matrix\"\n",
    "\n",
    "gctx_file = h5py.File(full_path, \"r\")\n",
    "data_dset = gctx_file[data_node]\n",
    "print(data_dset.shape)\n",
    "total_rows = 5\n",
    "total_cols = 10\n",
    "ridx = list(range(5))\n",
    "cidx = list(range(10))"
   ]
  },
  {
   "cell_type": "code",
   "execution_count": 30,
   "metadata": {},
   "outputs": [
    {
     "ename": "NameError",
     "evalue": "name 'row_meta' is not defined",
     "output_type": "error",
     "traceback": [
      "\u001b[0;31m---------------------------------------------------------------------------\u001b[0m",
      "\u001b[0;31mNameError\u001b[0m                                 Traceback (most recent call last)",
      "\u001b[1;32mUntitled-1.ipynb Cell 5'\u001b[0m in \u001b[0;36m<cell line: 36>\u001b[0;34m()\u001b[0m\n\u001b[1;32m     <a href='vscode-notebook-cell:Untitled-1.ipynb?jupyter-notebook#ch0000003untitled?line=32'>33</a>\u001b[0m         cov_array \u001b[39m=\u001b[39m first_subset[\u001b[39m1\u001b[39m, :, ridx]\u001b[39m.\u001b[39mtranspose()\n\u001b[1;32m     <a href='vscode-notebook-cell:Untitled-1.ipynb?jupyter-notebook#ch0000003untitled?line=34'>35</a>\u001b[0m \u001b[39m# make DataFrame instance\u001b[39;00m\n\u001b[0;32m---> <a href='vscode-notebook-cell:Untitled-1.ipynb?jupyter-notebook#ch0000003untitled?line=35'>36</a>\u001b[0m meth_df \u001b[39m=\u001b[39m pd\u001b[39m.\u001b[39mDataFrame(meth_array, index\u001b[39m=\u001b[39mrow_meta\u001b[39m.\u001b[39mindex[ridx], columns\u001b[39m=\u001b[39mcol_meta\u001b[39m.\u001b[39mindex[cidx])\n\u001b[1;32m     <a href='vscode-notebook-cell:Untitled-1.ipynb?jupyter-notebook#ch0000003untitled?line=36'>37</a>\u001b[0m cov_df \u001b[39m=\u001b[39m pd\u001b[39m.\u001b[39mDataFrame(cov_array, index\u001b[39m=\u001b[39mrow_meta\u001b[39m.\u001b[39mindex[ridx], columns\u001b[39m=\u001b[39mcol_meta\u001b[39m.\u001b[39mindex[cidx])\n",
      "\u001b[0;31mNameError\u001b[0m: name 'row_meta' is not defined"
     ]
    }
   ],
   "source": [
    "\"\"\"\n",
    "Parses in data_df from hdf5, subsetting if specified.\n",
    "\n",
    "Input:\n",
    "    -data_dset (h5py dset): HDF5 dataset from which to read data_df\n",
    "    -ridx (list): list of indexes to subset from data_df\n",
    "        (may be all of them if no subsetting)\n",
    "    -cidx (list): list of indexes to subset from data_df\n",
    "        (may be all of them if no subsetting)\n",
    "    -row_meta (pandas DataFrame): the parsed in row metadata\n",
    "    -col_meta (pandas DataFrame): the parsed in col metadata\n",
    "\"\"\"\n",
    "\n",
    "if len(ridx) == total_rows and len(cidx) == total_cols:  # no subset\n",
    "    data_array = np.empty(data_dset.shape, dtype=np.float32)\n",
    "    data_dset.read_direct(data_array)\n",
    "    meth_array = data_array[0, :, :].transpose()\n",
    "    cov_array = data_array[1, :, :].transpose()\n",
    "else:\n",
    "    # We can only subset on a single dimension at a time with h5py.\n",
    "    # For the first dimension to use, pick the one that minimizes\n",
    "    # the size of the intermediate array.\n",
    "    row_first_count = total_cols * len(ridx)\n",
    "    col_first_count = total_rows * len(cidx)\n",
    "\n",
    "    if row_first_count < col_first_count:\n",
    "        first_subset = data_dset[:, :, ridx].astype(np.float32)\n",
    "        meth_array = first_subset[0, cidx, :].transpose()\n",
    "        cov_array = first_subset[1, cidx, :].transpose()\n",
    "    else:\n",
    "        first_subset = data_dset[cidx, :].astype(np.float32)\n",
    "        meth_array = first_subset[0, :, ridx].transpose()\n",
    "        cov_array = first_subset[1, :, ridx].transpose()\n",
    "\n",
    "# make DataFrame instance\n",
    "meth_df = pd.DataFrame(meth_array, index=row_meta.index[ridx], columns=col_meta.index[cidx])\n",
    "cov_df = pd.DataFrame(cov_array, index=row_meta.index[ridx], columns=col_meta.index[cidx])\n"
   ]
  },
  {
   "cell_type": "code",
   "execution_count": 49,
   "metadata": {},
   "outputs": [
    {
     "name": "stdout",
     "output_type": "stream",
     "text": [
      "(2, 2, 3)\n"
     ]
    }
   ],
   "source": [
    "m1 = np.array([[1,2,3],[4,5,6]])\n",
    "m2 = np.array([[11,12,13],[14,15,16]])\n",
    "m3 = np.array([m1,m2])\n",
    "\n",
    "print(m3.shape)"
   ]
  },
  {
   "cell_type": "code",
   "execution_count": 3,
   "metadata": {},
   "outputs": [],
   "source": [
    "import cmapPy.pandasGEXpress.parse_gctx as parse_gctx\n",
    "import cmapPy.pandasGEXpress.write_gctx as write_gctx\n",
    "import cmapPy.pandasGEXpress.GCToo as GCToo\n",
    "import pandas as pd\n",
    "\n",
    "\n",
    "col_meta = parse_gctx.get_column_metadata(\"/home/bsiranos/projects/cmapPy/cmapPy/pandasGEXpress/tests/functional_tests/mini_gctx_with_metadata_n2x3.gctx\")\n",
    "row_meta = parse_gctx.get_row_metadata(\"/home/bsiranos/projects/cmapPy/cmapPy/pandasGEXpress/tests/functional_tests/mini_gctx_with_metadata_n2x3.gctx\")\n",
    "meth_df = pd.DataFrame([[-0.283359, 0.011270], [0.304119, 1.921061], [0.398655, -0.144652]],\n",
    "                            index=[\"200814_at\", \"218597_s_at\", \"217140_s_at\"],\n",
    "                            columns=[\"LJP005_A375_24H:DMSO:-666\", \"LJP005_A375_24H:BRD-K76908866:10\"])\n",
    "\n",
    "cov_df = pd.DataFrame([[-0.283359, 0.011270], [0.304119, 1.921061], [0.398655, -0.144652]],\n",
    "                            index=[\"200814_at\", \"218597_s_at\", \"217140_s_at\"],\n",
    "                            columns=[\"LJP005_A375_24H:DMSO:-666\", \"LJP005_A375_24H:BRD-K76908866:10\"])\n",
    "\n",
    "test_new = parse_gctx.parse('~/loyal_local/data/')"
   ]
  },
  {
   "cell_type": "code",
   "execution_count": 15,
   "metadata": {},
   "outputs": [
    {
     "data": {
      "text/html": [
       "<div>\n",
       "<style scoped>\n",
       "    .dataframe tbody tr th:only-of-type {\n",
       "        vertical-align: middle;\n",
       "    }\n",
       "\n",
       "    .dataframe tbody tr th {\n",
       "        vertical-align: top;\n",
       "    }\n",
       "\n",
       "    .dataframe thead th {\n",
       "        text-align: right;\n",
       "    }\n",
       "</style>\n",
       "<table border=\"1\" class=\"dataframe\">\n",
       "  <thead>\n",
       "    <tr style=\"text-align: right;\">\n",
       "      <th>chd</th>\n",
       "      <th>bead_batch</th>\n",
       "      <th>bead_revision</th>\n",
       "    </tr>\n",
       "    <tr>\n",
       "      <th>cid</th>\n",
       "      <th></th>\n",
       "      <th></th>\n",
       "    </tr>\n",
       "  </thead>\n",
       "  <tbody>\n",
       "    <tr>\n",
       "      <th>LJP005_A375_24H:DMSO:-666</th>\n",
       "      <td>b19</td>\n",
       "      <td>r2</td>\n",
       "    </tr>\n",
       "    <tr>\n",
       "      <th>LJP005_A375_24H:BRD-K76908866:10</th>\n",
       "      <td>b19</td>\n",
       "      <td>r2</td>\n",
       "    </tr>\n",
       "  </tbody>\n",
       "</table>\n",
       "</div>"
      ],
      "text/plain": [
       "chd                              bead_batch bead_revision\n",
       "cid                                                      \n",
       "LJP005_A375_24H:DMSO:-666               b19            r2\n",
       "LJP005_A375_24H:BRD-K76908866:10        b19            r2"
      ]
     },
     "execution_count": 15,
     "metadata": {},
     "output_type": "execute_result"
    }
   ],
   "source": [
    "col_meta"
   ]
  },
  {
   "cell_type": "code",
   "execution_count": 18,
   "metadata": {},
   "outputs": [],
   "source": [
    "gt = GCToo.GCToo(meth_df, cov_df, row_meta, col_meta)"
   ]
  },
  {
   "cell_type": "code",
   "execution_count": 20,
   "metadata": {},
   "outputs": [],
   "source": [
    "write_gctx.write(gt, '/home/bsiranos/projects/cmapPy/cmapPy/pandasGEXpress/tests/functional_tests/mini_gctx_with_metadata_n2x3.gctx')"
   ]
  },
  {
   "cell_type": "code",
   "execution_count": 2,
   "metadata": {},
   "outputs": [],
   "source": [
    "import cmapPy.pandasGEXpress.mini_gctoo_for_testing as mini_gctoo_for_testing\n",
    "import cmapPy.pandasGEXpress.parse_gctx as parse_gctx\n",
    "import cmapPy.pandasGEXpress.write_gctx as write_gctx\n",
    "import cmapPy.pandasGEXpress.GCToo as GCToo\n",
    "\n",
    "mg1 = mini_gctoo_for_testing.make()\n",
    "mg2 = parse_gctx.parse(\"cmapPy/pandasGEXpress/tests/functional_tests/mini_gctoo_for_testing.gctx\")\n",
    "write_gctx.write(mg1, \"cmapPy/pandasGEXpress/tests/functional_tests/mini_gctoo_for_testing.gctx\")"
   ]
  },
  {
   "cell_type": "code",
   "execution_count": 3,
   "metadata": {},
   "outputs": [
    {
     "data": {
      "text/html": [
       "<div>\n",
       "<style scoped>\n",
       "    .dataframe tbody tr th:only-of-type {\n",
       "        vertical-align: middle;\n",
       "    }\n",
       "\n",
       "    .dataframe tbody tr th {\n",
       "        vertical-align: top;\n",
       "    }\n",
       "\n",
       "    .dataframe thead th {\n",
       "        text-align: right;\n",
       "    }\n",
       "</style>\n",
       "<table border=\"1\" class=\"dataframe\">\n",
       "  <thead>\n",
       "    <tr style=\"text-align: right;\">\n",
       "      <th>rhd</th>\n",
       "      <th>count_cv</th>\n",
       "      <th>distil_nsample</th>\n",
       "      <th>distil_ss</th>\n",
       "      <th>mfc_plate_id</th>\n",
       "      <th>zmad_ref</th>\n",
       "    </tr>\n",
       "    <tr>\n",
       "      <th>rid</th>\n",
       "      <th></th>\n",
       "      <th></th>\n",
       "      <th></th>\n",
       "      <th></th>\n",
       "      <th></th>\n",
       "    </tr>\n",
       "  </thead>\n",
       "  <tbody>\n",
       "    <tr>\n",
       "      <th>LJP007_MCF10A_24H:TRT_CP:BRD-K93918653:3.33</th>\n",
       "      <td>14|15|14</td>\n",
       "      <td>3</td>\n",
       "      <td>9.822065</td>\n",
       "      <td>-666</td>\n",
       "      <td>population</td>\n",
       "    </tr>\n",
       "    <tr>\n",
       "      <th>MISC003_A375_24H:TRT_CP:BRD-K93918653:3.33</th>\n",
       "      <td>13|14|13</td>\n",
       "      <td>3</td>\n",
       "      <td>6.891521</td>\n",
       "      <td>-666</td>\n",
       "      <td>population</td>\n",
       "    </tr>\n",
       "    <tr>\n",
       "      <th>LJP007_MCF7_24H:TRT_POSCON:BRD-K81418486:10</th>\n",
       "      <td>13|15|14|14|15|14|14|13|14|15|15|14|14|15|14|1...</td>\n",
       "      <td>66</td>\n",
       "      <td>1.358406</td>\n",
       "      <td>-666</td>\n",
       "      <td>population</td>\n",
       "    </tr>\n",
       "    <tr>\n",
       "      <th>LJP007_MCF7_24H:TRT_POSCON:BRD-A61304759:10</th>\n",
       "      <td>13</td>\n",
       "      <td>2</td>\n",
       "      <td>5.548899</td>\n",
       "      <td>-666</td>\n",
       "      <td>population</td>\n",
       "    </tr>\n",
       "    <tr>\n",
       "      <th>LJP007_MCF7_24H:CTL_VEHICLE:DMSO:-666</th>\n",
       "      <td>13</td>\n",
       "      <td>9</td>\n",
       "      <td>3.355232</td>\n",
       "      <td>-666</td>\n",
       "      <td>population</td>\n",
       "    </tr>\n",
       "    <tr>\n",
       "      <th>LJP007_MCF7_24H:TRT_CP:BRD-K64857848:10</th>\n",
       "      <td>14</td>\n",
       "      <td>111111</td>\n",
       "      <td>4.837643</td>\n",
       "      <td>-666</td>\n",
       "      <td>population</td>\n",
       "    </tr>\n",
       "  </tbody>\n",
       "</table>\n",
       "</div>"
      ],
      "text/plain": [
       "rhd                                                                                   count_cv  \\\n",
       "rid                                                                                              \n",
       "LJP007_MCF10A_24H:TRT_CP:BRD-K93918653:3.33                                           14|15|14   \n",
       "MISC003_A375_24H:TRT_CP:BRD-K93918653:3.33                                            13|14|13   \n",
       "LJP007_MCF7_24H:TRT_POSCON:BRD-K81418486:10  13|15|14|14|15|14|14|13|14|15|15|14|14|15|14|1...   \n",
       "LJP007_MCF7_24H:TRT_POSCON:BRD-A61304759:10                                                 13   \n",
       "LJP007_MCF7_24H:CTL_VEHICLE:DMSO:-666                                                       13   \n",
       "LJP007_MCF7_24H:TRT_CP:BRD-K64857848:10                                                     14   \n",
       "\n",
       "rhd                                          distil_nsample  distil_ss  \\\n",
       "rid                                                                      \n",
       "LJP007_MCF10A_24H:TRT_CP:BRD-K93918653:3.33               3   9.822065   \n",
       "MISC003_A375_24H:TRT_CP:BRD-K93918653:3.33                3   6.891521   \n",
       "LJP007_MCF7_24H:TRT_POSCON:BRD-K81418486:10              66   1.358406   \n",
       "LJP007_MCF7_24H:TRT_POSCON:BRD-A61304759:10               2   5.548899   \n",
       "LJP007_MCF7_24H:CTL_VEHICLE:DMSO:-666                     9   3.355232   \n",
       "LJP007_MCF7_24H:TRT_CP:BRD-K64857848:10              111111   4.837643   \n",
       "\n",
       "rhd                                         mfc_plate_id    zmad_ref  \n",
       "rid                                                                   \n",
       "LJP007_MCF10A_24H:TRT_CP:BRD-K93918653:3.33         -666  population  \n",
       "MISC003_A375_24H:TRT_CP:BRD-K93918653:3.33          -666  population  \n",
       "LJP007_MCF7_24H:TRT_POSCON:BRD-K81418486:10         -666  population  \n",
       "LJP007_MCF7_24H:TRT_POSCON:BRD-A61304759:10         -666  population  \n",
       "LJP007_MCF7_24H:CTL_VEHICLE:DMSO:-666               -666  population  \n",
       "LJP007_MCF7_24H:TRT_CP:BRD-K64857848:10             -666  population  "
      ]
     },
     "execution_count": 3,
     "metadata": {},
     "output_type": "execute_result"
    }
   ],
   "source": [
    "mg1.row_metadata_df"
   ]
  },
  {
   "cell_type": "code",
   "execution_count": 4,
   "metadata": {},
   "outputs": [
    {
     "data": {
      "text/html": [
       "<div>\n",
       "<style scoped>\n",
       "    .dataframe tbody tr th:only-of-type {\n",
       "        vertical-align: middle;\n",
       "    }\n",
       "\n",
       "    .dataframe tbody tr th {\n",
       "        vertical-align: top;\n",
       "    }\n",
       "\n",
       "    .dataframe thead th {\n",
       "        text-align: right;\n",
       "    }\n",
       "</style>\n",
       "<table border=\"1\" class=\"dataframe\">\n",
       "  <thead>\n",
       "    <tr style=\"text-align: right;\">\n",
       "      <th>rhd</th>\n",
       "      <th>count_cv</th>\n",
       "      <th>distil_nsample</th>\n",
       "      <th>distil_ss</th>\n",
       "      <th>mfc_plate_id</th>\n",
       "      <th>zmad_ref</th>\n",
       "    </tr>\n",
       "    <tr>\n",
       "      <th>rid</th>\n",
       "      <th></th>\n",
       "      <th></th>\n",
       "      <th></th>\n",
       "      <th></th>\n",
       "      <th></th>\n",
       "    </tr>\n",
       "  </thead>\n",
       "  <tbody>\n",
       "    <tr>\n",
       "      <th>LJP007_MCF10A_24H:TRT_CP:BRD-K93918653:3.33</th>\n",
       "      <td>14|15|14</td>\n",
       "      <td>3</td>\n",
       "      <td>9.822065</td>\n",
       "      <td>-666</td>\n",
       "      <td>population</td>\n",
       "    </tr>\n",
       "    <tr>\n",
       "      <th>MISC003_A375_24H:TRT_CP:BRD-K93918653:3.33</th>\n",
       "      <td>13|14|13</td>\n",
       "      <td>3</td>\n",
       "      <td>6.891521</td>\n",
       "      <td>-666</td>\n",
       "      <td>population</td>\n",
       "    </tr>\n",
       "    <tr>\n",
       "      <th>LJP007_MCF7_24H:TRT_POSCON:BRD-K81418486:10</th>\n",
       "      <td>13|15|14|14|15|14|14|13|14|15|15|14|14|15|14|1...</td>\n",
       "      <td>66</td>\n",
       "      <td>1.358406</td>\n",
       "      <td>-666</td>\n",
       "      <td>population</td>\n",
       "    </tr>\n",
       "    <tr>\n",
       "      <th>LJP007_MCF7_24H:TRT_POSCON:BRD-A61304759:10</th>\n",
       "      <td>13</td>\n",
       "      <td>2</td>\n",
       "      <td>5.548899</td>\n",
       "      <td>-666</td>\n",
       "      <td>population</td>\n",
       "    </tr>\n",
       "    <tr>\n",
       "      <th>LJP007_MCF7_24H:CTL_VEHICLE:DMSO:-666</th>\n",
       "      <td>13</td>\n",
       "      <td>9</td>\n",
       "      <td>3.355232</td>\n",
       "      <td>-666</td>\n",
       "      <td>population</td>\n",
       "    </tr>\n",
       "    <tr>\n",
       "      <th>LJP007_MCF7_24H:TRT_CP:BRD-K64857848:10</th>\n",
       "      <td>14</td>\n",
       "      <td>111111</td>\n",
       "      <td>4.837643</td>\n",
       "      <td>-666</td>\n",
       "      <td>population</td>\n",
       "    </tr>\n",
       "  </tbody>\n",
       "</table>\n",
       "</div>"
      ],
      "text/plain": [
       "rhd                                                                                   count_cv  \\\n",
       "rid                                                                                              \n",
       "LJP007_MCF10A_24H:TRT_CP:BRD-K93918653:3.33                                           14|15|14   \n",
       "MISC003_A375_24H:TRT_CP:BRD-K93918653:3.33                                            13|14|13   \n",
       "LJP007_MCF7_24H:TRT_POSCON:BRD-K81418486:10  13|15|14|14|15|14|14|13|14|15|15|14|14|15|14|1...   \n",
       "LJP007_MCF7_24H:TRT_POSCON:BRD-A61304759:10                                                 13   \n",
       "LJP007_MCF7_24H:CTL_VEHICLE:DMSO:-666                                                       13   \n",
       "LJP007_MCF7_24H:TRT_CP:BRD-K64857848:10                                                     14   \n",
       "\n",
       "rhd                                          distil_nsample  distil_ss  \\\n",
       "rid                                                                      \n",
       "LJP007_MCF10A_24H:TRT_CP:BRD-K93918653:3.33               3   9.822065   \n",
       "MISC003_A375_24H:TRT_CP:BRD-K93918653:3.33                3   6.891521   \n",
       "LJP007_MCF7_24H:TRT_POSCON:BRD-K81418486:10              66   1.358406   \n",
       "LJP007_MCF7_24H:TRT_POSCON:BRD-A61304759:10               2   5.548899   \n",
       "LJP007_MCF7_24H:CTL_VEHICLE:DMSO:-666                     9   3.355232   \n",
       "LJP007_MCF7_24H:TRT_CP:BRD-K64857848:10              111111   4.837643   \n",
       "\n",
       "rhd                                         mfc_plate_id    zmad_ref  \n",
       "rid                                                                   \n",
       "LJP007_MCF10A_24H:TRT_CP:BRD-K93918653:3.33         -666  population  \n",
       "MISC003_A375_24H:TRT_CP:BRD-K93918653:3.33          -666  population  \n",
       "LJP007_MCF7_24H:TRT_POSCON:BRD-K81418486:10         -666  population  \n",
       "LJP007_MCF7_24H:TRT_POSCON:BRD-A61304759:10         -666  population  \n",
       "LJP007_MCF7_24H:CTL_VEHICLE:DMSO:-666               -666  population  \n",
       "LJP007_MCF7_24H:TRT_CP:BRD-K64857848:10             -666  population  "
      ]
     },
     "execution_count": 4,
     "metadata": {},
     "output_type": "execute_result"
    }
   ],
   "source": [
    "mg2.row_metadata_df"
   ]
  },
  {
   "cell_type": "code",
   "execution_count": 1,
   "metadata": {},
   "outputs": [],
   "source": [
    "import cmapPy.pandasGEXpress.subset_gctoo as subset_gctoo\n",
    "import cmapPy.pandasGEXpress.mini_gctoo_for_testing as mini_gctoo_for_testing\n",
    "import cmapPy.pandasGEXpress.parse_gctx as parse_gctx\n",
    "\n",
    "test_rids = ['LJP007_MCF10A_24H:TRT_CP:BRD-K93918653:3.33', 'LJP007_MCF7_24H:CTL_VEHICLE:DMSO:-666']\n",
    "test_cids = ['LJP007_MCF7_24H:TRT_POSCON:BRD-A61304759:10']\n",
    "mg1 = mini_gctoo_for_testing.make()\n",
    "\n",
    "mg3 = subset_gctoo.subset_gctoo(mg1, rid=test_rids, cid=test_cids)\n",
    "mg4 = parse_gctx.parse(\"cmapPy/pandasGEXpress/tests/functional_tests/mini_gctoo_for_testing.gctx\",\n",
    "                        rid=test_rids, cid=test_cids)"
   ]
  },
  {
   "cell_type": "code",
   "execution_count": null,
   "metadata": {},
   "outputs": [],
   "source": []
  }
 ],
 "metadata": {
  "interpreter": {
   "hash": "b09a9d6bb669712f4b293287e6dfe7f8209446075ef6f6b759606c998e007cc4"
  },
  "kernelspec": {
   "display_name": "Python 3.9.5 ('base')",
   "language": "python",
   "name": "python3"
  },
  "language_info": {
   "codemirror_mode": {
    "name": "ipython",
    "version": 3
   },
   "file_extension": ".py",
   "mimetype": "text/x-python",
   "name": "python",
   "nbconvert_exporter": "python",
   "pygments_lexer": "ipython3",
   "version": "3.9.10"
  },
  "orig_nbformat": 4
 },
 "nbformat": 4,
 "nbformat_minor": 2
}
